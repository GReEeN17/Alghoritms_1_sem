{
  "nbformat": 4,
  "nbformat_minor": 0,
  "metadata": {
    "colab": {
      "provenance": [],
      "include_colab_link": true
    },
    "kernelspec": {
      "name": "python3",
      "display_name": "Python 3"
    },
    "language_info": {
      "name": "python"
    }
  },
  "cells": [
    {
      "cell_type": "markdown",
      "metadata": {
        "id": "view-in-github",
        "colab_type": "text"
      },
      "source": [
        "<a href=\"https://colab.research.google.com/github/GReEeN17/Alghoritms_1_sem/blob/master/%D0%A1%D1%82%D0%B0%D1%82%D0%B8%D1%81%D1%82%D0%B8%D0%BA%D0%B0_%D0%B8_%D1%81%D1%82%D0%B0%D1%82%D0%B8%D1%81%D1%82%D0%B8%D0%BA%D0%B8.ipynb\" target=\"_parent\"><img src=\"https://colab.research.google.com/assets/colab-badge.svg\" alt=\"Open In Colab\"/></a>"
      ]
    },
    {
      "cell_type": "markdown",
      "source": [
        "## Задача\n",
        "\n",
        "Пусть дана простая выборка $X^{(2n)}$, известны конечные $EX_1=m$, $DX_1=\\sigma^2$. Какая из двух несмещённых оценок $m$ более предпочтительна?\n",
        "\n",
        "1. $\\hat{m} = \\frac{1}{2n}\\sum\\limits_{j=1}^{2n}X_j$\n",
        "\n",
        "2. $\\hat{m} = \\frac{1}{n}\\sum\\limits_{j=1}^{n}X_j$"
      ],
      "metadata": {
        "id": "T8MjTFwndP9u"
      }
    },
    {
      "cell_type": "code",
      "execution_count": null,
      "metadata": {
        "id": "GHre5nfDcoUk"
      },
      "outputs": [],
      "source": [
        "import numpy as np\n",
        "import plotly.graph_objects as go\n",
        "\n",
        "from scipy.stats import norm\n",
        "from statsmodels.graphics.gofplots import qqplot\n",
        "from matplotlib import pyplot as plt"
      ]
    },
    {
      "cell_type": "code",
      "source": [
        "mu = 10\n",
        "sigma = 10\n",
        "\n",
        "iter_size = 2\n",
        "sample_size = 100000\n",
        "\n",
        "x = norm(loc=mu, scale=sigma).rvs(size=[iter_size, sample_size], random_state=42)"
      ],
      "metadata": {
        "id": "lhaRUHybeGJL"
      },
      "execution_count": null,
      "outputs": []
    },
    {
      "cell_type": "code",
      "source": [
        "x = norm(loc=34, scale=sigma).rvs(size=[iter_size, sample_size], random_state=42).astype(int)\n",
        "x\n"
      ],
      "metadata": {
        "colab": {
          "base_uri": "https://localhost:8080/"
        },
        "id": "O5J9g4urShTq",
        "outputId": "fc039563-fc30-4ac8-f9b9-c6cf40b37891"
      },
      "execution_count": null,
      "outputs": [
        {
          "output_type": "execute_result",
          "data": {
            "text/plain": [
              "array([[38, 32, 40, ..., 38, 31, 35],\n",
              "       [44, 22, 39, ..., 35, 42, 23]])"
            ]
          },
          "metadata": {},
          "execution_count": 10
        }
      ]
    },
    {
      "cell_type": "code",
      "source": [
        "mu_est_list = []\n",
        "mean_mu_est_list = []\n",
        "std_mu_est_list = []"
      ],
      "metadata": {
        "id": "e6ZrCpt2o_aa"
      },
      "execution_count": null,
      "outputs": []
    },
    {
      "cell_type": "code",
      "source": [
        "half_mu_est_list = []\n",
        "half_mean_mu_est_list = []\n",
        "half_std_mu_est_list = []"
      ],
      "metadata": {
        "id": "DpdyBcCjpEGn"
      },
      "execution_count": null,
      "outputs": []
    },
    {
      "cell_type": "code",
      "source": [
        "fig = go.Figure()\n",
        "fig.add_trace(go.Scatter(x=[1, iter_size],\n",
        "                         y=[mu, mu],\n",
        "                         name=\"Заданное значение\"))\n",
        "\n",
        "x = norm(loc=mu, scale=sigma).rvs(size=[iter_size, sample_size], random_state=42)\n",
        "mu_est_list = []\n",
        "mean_mu_est_list = []\n",
        "\n",
        "for i in range(iter_size):\n",
        "    mu_est = x[i].mean()\n",
        "    mu_est_list.append(mu_est)\n",
        "\n",
        "    mean_mu_est = np.mean(mu_est_list)\n",
        "    std_mu_est = np.std(mu_est_list)\n",
        "\n",
        "    mean_mu_est_list.append(mean_mu_est)\n",
        "    std_mu_est_list.append(std_mu_est)\n",
        "\n",
        "fig.add_trace(go.Scatter(x=1 + np.arange(iter_size),\n",
        "                         y=mean_mu_est_list,\n",
        "                         name=\"Среднее оценки, N=2n\"))\n",
        "\n",
        "fig.update_xaxes(type=\"log\")\n",
        "fig.update_layout(title=\"Проверка несмещённости оценок\",\n",
        "                  xaxis_title=\"Размер выборки\",\n",
        "                  yaxis_title=\"Значение параметра\")"
      ],
      "metadata": {
        "colab": {
          "base_uri": "https://localhost:8080/",
          "height": 542
        },
        "id": "8RHcF9cvd850",
        "outputId": "71560d06-309b-418f-dcdf-e84eb3e43a51"
      },
      "execution_count": null,
      "outputs": [
        {
          "output_type": "display_data",
          "data": {
            "text/html": [
              "<html>\n",
              "<head><meta charset=\"utf-8\" /></head>\n",
              "<body>\n",
              "    <div>            <script src=\"https://cdnjs.cloudflare.com/ajax/libs/mathjax/2.7.5/MathJax.js?config=TeX-AMS-MML_SVG\"></script><script type=\"text/javascript\">if (window.MathJax && window.MathJax.Hub && window.MathJax.Hub.Config) {window.MathJax.Hub.Config({SVG: {font: \"STIX-Web\"}});}</script>                <script type=\"text/javascript\">window.PlotlyConfig = {MathJaxConfig: 'local'};</script>\n",
              "        <script charset=\"utf-8\" src=\"https://cdn.plot.ly/plotly-2.35.2.min.js\"></script>                <div id=\"ea8831a7-32c1-4ec6-82b5-b3533df0fc62\" class=\"plotly-graph-div\" style=\"height:525px; width:100%;\"></div>            <script type=\"text/javascript\">                                    window.PLOTLYENV=window.PLOTLYENV || {};                                    if (document.getElementById(\"ea8831a7-32c1-4ec6-82b5-b3533df0fc62\")) {                    Plotly.newPlot(                        \"ea8831a7-32c1-4ec6-82b5-b3533df0fc62\",                        [{\"name\":\"Заданное значение\",\"x\":[1,2],\"y\":[10,10],\"type\":\"scatter\"},{\"name\":\"Среднее оценки, N=2n\",\"x\":[1,2],\"y\":[10.009668681409497,10.009739510884987],\"type\":\"scatter\"}],                        {\"template\":{\"data\":{\"histogram2dcontour\":[{\"type\":\"histogram2dcontour\",\"colorbar\":{\"outlinewidth\":0,\"ticks\":\"\"},\"colorscale\":[[0.0,\"#0d0887\"],[0.1111111111111111,\"#46039f\"],[0.2222222222222222,\"#7201a8\"],[0.3333333333333333,\"#9c179e\"],[0.4444444444444444,\"#bd3786\"],[0.5555555555555556,\"#d8576b\"],[0.6666666666666666,\"#ed7953\"],[0.7777777777777778,\"#fb9f3a\"],[0.8888888888888888,\"#fdca26\"],[1.0,\"#f0f921\"]]}],\"choropleth\":[{\"type\":\"choropleth\",\"colorbar\":{\"outlinewidth\":0,\"ticks\":\"\"}}],\"histogram2d\":[{\"type\":\"histogram2d\",\"colorbar\":{\"outlinewidth\":0,\"ticks\":\"\"},\"colorscale\":[[0.0,\"#0d0887\"],[0.1111111111111111,\"#46039f\"],[0.2222222222222222,\"#7201a8\"],[0.3333333333333333,\"#9c179e\"],[0.4444444444444444,\"#bd3786\"],[0.5555555555555556,\"#d8576b\"],[0.6666666666666666,\"#ed7953\"],[0.7777777777777778,\"#fb9f3a\"],[0.8888888888888888,\"#fdca26\"],[1.0,\"#f0f921\"]]}],\"heatmap\":[{\"type\":\"heatmap\",\"colorbar\":{\"outlinewidth\":0,\"ticks\":\"\"},\"colorscale\":[[0.0,\"#0d0887\"],[0.1111111111111111,\"#46039f\"],[0.2222222222222222,\"#7201a8\"],[0.3333333333333333,\"#9c179e\"],[0.4444444444444444,\"#bd3786\"],[0.5555555555555556,\"#d8576b\"],[0.6666666666666666,\"#ed7953\"],[0.7777777777777778,\"#fb9f3a\"],[0.8888888888888888,\"#fdca26\"],[1.0,\"#f0f921\"]]}],\"heatmapgl\":[{\"type\":\"heatmapgl\",\"colorbar\":{\"outlinewidth\":0,\"ticks\":\"\"},\"colorscale\":[[0.0,\"#0d0887\"],[0.1111111111111111,\"#46039f\"],[0.2222222222222222,\"#7201a8\"],[0.3333333333333333,\"#9c179e\"],[0.4444444444444444,\"#bd3786\"],[0.5555555555555556,\"#d8576b\"],[0.6666666666666666,\"#ed7953\"],[0.7777777777777778,\"#fb9f3a\"],[0.8888888888888888,\"#fdca26\"],[1.0,\"#f0f921\"]]}],\"contourcarpet\":[{\"type\":\"contourcarpet\",\"colorbar\":{\"outlinewidth\":0,\"ticks\":\"\"}}],\"contour\":[{\"type\":\"contour\",\"colorbar\":{\"outlinewidth\":0,\"ticks\":\"\"},\"colorscale\":[[0.0,\"#0d0887\"],[0.1111111111111111,\"#46039f\"],[0.2222222222222222,\"#7201a8\"],[0.3333333333333333,\"#9c179e\"],[0.4444444444444444,\"#bd3786\"],[0.5555555555555556,\"#d8576b\"],[0.6666666666666666,\"#ed7953\"],[0.7777777777777778,\"#fb9f3a\"],[0.8888888888888888,\"#fdca26\"],[1.0,\"#f0f921\"]]}],\"surface\":[{\"type\":\"surface\",\"colorbar\":{\"outlinewidth\":0,\"ticks\":\"\"},\"colorscale\":[[0.0,\"#0d0887\"],[0.1111111111111111,\"#46039f\"],[0.2222222222222222,\"#7201a8\"],[0.3333333333333333,\"#9c179e\"],[0.4444444444444444,\"#bd3786\"],[0.5555555555555556,\"#d8576b\"],[0.6666666666666666,\"#ed7953\"],[0.7777777777777778,\"#fb9f3a\"],[0.8888888888888888,\"#fdca26\"],[1.0,\"#f0f921\"]]}],\"mesh3d\":[{\"type\":\"mesh3d\",\"colorbar\":{\"outlinewidth\":0,\"ticks\":\"\"}}],\"scatter\":[{\"fillpattern\":{\"fillmode\":\"overlay\",\"size\":10,\"solidity\":0.2},\"type\":\"scatter\"}],\"parcoords\":[{\"type\":\"parcoords\",\"line\":{\"colorbar\":{\"outlinewidth\":0,\"ticks\":\"\"}}}],\"scatterpolargl\":[{\"type\":\"scatterpolargl\",\"marker\":{\"colorbar\":{\"outlinewidth\":0,\"ticks\":\"\"}}}],\"bar\":[{\"error_x\":{\"color\":\"#2a3f5f\"},\"error_y\":{\"color\":\"#2a3f5f\"},\"marker\":{\"line\":{\"color\":\"#E5ECF6\",\"width\":0.5},\"pattern\":{\"fillmode\":\"overlay\",\"size\":10,\"solidity\":0.2}},\"type\":\"bar\"}],\"scattergeo\":[{\"type\":\"scattergeo\",\"marker\":{\"colorbar\":{\"outlinewidth\":0,\"ticks\":\"\"}}}],\"scatterpolar\":[{\"type\":\"scatterpolar\",\"marker\":{\"colorbar\":{\"outlinewidth\":0,\"ticks\":\"\"}}}],\"histogram\":[{\"marker\":{\"pattern\":{\"fillmode\":\"overlay\",\"size\":10,\"solidity\":0.2}},\"type\":\"histogram\"}],\"scattergl\":[{\"type\":\"scattergl\",\"marker\":{\"colorbar\":{\"outlinewidth\":0,\"ticks\":\"\"}}}],\"scatter3d\":[{\"type\":\"scatter3d\",\"line\":{\"colorbar\":{\"outlinewidth\":0,\"ticks\":\"\"}},\"marker\":{\"colorbar\":{\"outlinewidth\":0,\"ticks\":\"\"}}}],\"scattermapbox\":[{\"type\":\"scattermapbox\",\"marker\":{\"colorbar\":{\"outlinewidth\":0,\"ticks\":\"\"}}}],\"scatterternary\":[{\"type\":\"scatterternary\",\"marker\":{\"colorbar\":{\"outlinewidth\":0,\"ticks\":\"\"}}}],\"scattercarpet\":[{\"type\":\"scattercarpet\",\"marker\":{\"colorbar\":{\"outlinewidth\":0,\"ticks\":\"\"}}}],\"carpet\":[{\"aaxis\":{\"endlinecolor\":\"#2a3f5f\",\"gridcolor\":\"white\",\"linecolor\":\"white\",\"minorgridcolor\":\"white\",\"startlinecolor\":\"#2a3f5f\"},\"baxis\":{\"endlinecolor\":\"#2a3f5f\",\"gridcolor\":\"white\",\"linecolor\":\"white\",\"minorgridcolor\":\"white\",\"startlinecolor\":\"#2a3f5f\"},\"type\":\"carpet\"}],\"table\":[{\"cells\":{\"fill\":{\"color\":\"#EBF0F8\"},\"line\":{\"color\":\"white\"}},\"header\":{\"fill\":{\"color\":\"#C8D4E3\"},\"line\":{\"color\":\"white\"}},\"type\":\"table\"}],\"barpolar\":[{\"marker\":{\"line\":{\"color\":\"#E5ECF6\",\"width\":0.5},\"pattern\":{\"fillmode\":\"overlay\",\"size\":10,\"solidity\":0.2}},\"type\":\"barpolar\"}],\"pie\":[{\"automargin\":true,\"type\":\"pie\"}]},\"layout\":{\"autotypenumbers\":\"strict\",\"colorway\":[\"#636efa\",\"#EF553B\",\"#00cc96\",\"#ab63fa\",\"#FFA15A\",\"#19d3f3\",\"#FF6692\",\"#B6E880\",\"#FF97FF\",\"#FECB52\"],\"font\":{\"color\":\"#2a3f5f\"},\"hovermode\":\"closest\",\"hoverlabel\":{\"align\":\"left\"},\"paper_bgcolor\":\"white\",\"plot_bgcolor\":\"#E5ECF6\",\"polar\":{\"bgcolor\":\"#E5ECF6\",\"angularaxis\":{\"gridcolor\":\"white\",\"linecolor\":\"white\",\"ticks\":\"\"},\"radialaxis\":{\"gridcolor\":\"white\",\"linecolor\":\"white\",\"ticks\":\"\"}},\"ternary\":{\"bgcolor\":\"#E5ECF6\",\"aaxis\":{\"gridcolor\":\"white\",\"linecolor\":\"white\",\"ticks\":\"\"},\"baxis\":{\"gridcolor\":\"white\",\"linecolor\":\"white\",\"ticks\":\"\"},\"caxis\":{\"gridcolor\":\"white\",\"linecolor\":\"white\",\"ticks\":\"\"}},\"coloraxis\":{\"colorbar\":{\"outlinewidth\":0,\"ticks\":\"\"}},\"colorscale\":{\"sequential\":[[0.0,\"#0d0887\"],[0.1111111111111111,\"#46039f\"],[0.2222222222222222,\"#7201a8\"],[0.3333333333333333,\"#9c179e\"],[0.4444444444444444,\"#bd3786\"],[0.5555555555555556,\"#d8576b\"],[0.6666666666666666,\"#ed7953\"],[0.7777777777777778,\"#fb9f3a\"],[0.8888888888888888,\"#fdca26\"],[1.0,\"#f0f921\"]],\"sequentialminus\":[[0.0,\"#0d0887\"],[0.1111111111111111,\"#46039f\"],[0.2222222222222222,\"#7201a8\"],[0.3333333333333333,\"#9c179e\"],[0.4444444444444444,\"#bd3786\"],[0.5555555555555556,\"#d8576b\"],[0.6666666666666666,\"#ed7953\"],[0.7777777777777778,\"#fb9f3a\"],[0.8888888888888888,\"#fdca26\"],[1.0,\"#f0f921\"]],\"diverging\":[[0,\"#8e0152\"],[0.1,\"#c51b7d\"],[0.2,\"#de77ae\"],[0.3,\"#f1b6da\"],[0.4,\"#fde0ef\"],[0.5,\"#f7f7f7\"],[0.6,\"#e6f5d0\"],[0.7,\"#b8e186\"],[0.8,\"#7fbc41\"],[0.9,\"#4d9221\"],[1,\"#276419\"]]},\"xaxis\":{\"gridcolor\":\"white\",\"linecolor\":\"white\",\"ticks\":\"\",\"title\":{\"standoff\":15},\"zerolinecolor\":\"white\",\"automargin\":true,\"zerolinewidth\":2},\"yaxis\":{\"gridcolor\":\"white\",\"linecolor\":\"white\",\"ticks\":\"\",\"title\":{\"standoff\":15},\"zerolinecolor\":\"white\",\"automargin\":true,\"zerolinewidth\":2},\"scene\":{\"xaxis\":{\"backgroundcolor\":\"#E5ECF6\",\"gridcolor\":\"white\",\"linecolor\":\"white\",\"showbackground\":true,\"ticks\":\"\",\"zerolinecolor\":\"white\",\"gridwidth\":2},\"yaxis\":{\"backgroundcolor\":\"#E5ECF6\",\"gridcolor\":\"white\",\"linecolor\":\"white\",\"showbackground\":true,\"ticks\":\"\",\"zerolinecolor\":\"white\",\"gridwidth\":2},\"zaxis\":{\"backgroundcolor\":\"#E5ECF6\",\"gridcolor\":\"white\",\"linecolor\":\"white\",\"showbackground\":true,\"ticks\":\"\",\"zerolinecolor\":\"white\",\"gridwidth\":2}},\"shapedefaults\":{\"line\":{\"color\":\"#2a3f5f\"}},\"annotationdefaults\":{\"arrowcolor\":\"#2a3f5f\",\"arrowhead\":0,\"arrowwidth\":1},\"geo\":{\"bgcolor\":\"white\",\"landcolor\":\"#E5ECF6\",\"subunitcolor\":\"white\",\"showland\":true,\"showlakes\":true,\"lakecolor\":\"white\"},\"title\":{\"x\":0.05},\"mapbox\":{\"style\":\"light\"}}},\"xaxis\":{\"type\":\"log\",\"title\":{\"text\":\"Размер выборки\"}},\"title\":{\"text\":\"Проверка несмещённости оценок\"},\"yaxis\":{\"title\":{\"text\":\"Значение параметра\"}}},                        {\"responsive\": true}                    ).then(function(){\n",
              "                            \n",
              "var gd = document.getElementById('ea8831a7-32c1-4ec6-82b5-b3533df0fc62');\n",
              "var x = new MutationObserver(function (mutations, observer) {{\n",
              "        var display = window.getComputedStyle(gd).display;\n",
              "        if (!display || display === 'none') {{\n",
              "            console.log([gd, 'removed!']);\n",
              "            Plotly.purge(gd);\n",
              "            observer.disconnect();\n",
              "        }}\n",
              "}});\n",
              "\n",
              "// Listen for the removal of the full notebook cells\n",
              "var notebookContainer = gd.closest('#notebook-container');\n",
              "if (notebookContainer) {{\n",
              "    x.observe(notebookContainer, {childList: true});\n",
              "}}\n",
              "\n",
              "// Listen for the clearing of the current output cell\n",
              "var outputEl = gd.closest('.output');\n",
              "if (outputEl) {{\n",
              "    x.observe(outputEl, {childList: true});\n",
              "}}\n",
              "\n",
              "                        })                };                            </script>        </div>\n",
              "</body>\n",
              "</html>"
            ]
          },
          "metadata": {}
        }
      ]
    },
    {
      "cell_type": "code",
      "source": [
        "for i in range(iter_size):\n",
        "    half_mu_est = x[i][:sample_size//2].mean()\n",
        "    half_mu_est_list.append(half_mu_est)\n",
        "\n",
        "    half_mean_mu_est = np.mean(half_mu_est_list)\n",
        "    half_std_mu_est = np.std(half_mu_est_list)\n",
        "\n",
        "    half_mean_mu_est_list.append(half_mean_mu_est)\n",
        "    half_std_mu_est_list.append(half_std_mu_est)\n",
        "\n",
        "fig.add_trace(go.Scatter(x=1 + np.arange(iter_size),\n",
        "                         y=half_mean_mu_est_list,\n",
        "                         name=\"Среднее оценки, N=n\"))\n",
        "fig.show()"
      ],
      "metadata": {
        "colab": {
          "base_uri": "https://localhost:8080/",
          "height": 542
        },
        "id": "FYveDqpgeZtH",
        "outputId": "4795f9cc-d4dd-46f6-fdaf-bcfa721a6699"
      },
      "execution_count": null,
      "outputs": [
        {
          "output_type": "display_data",
          "data": {
            "text/html": [
              "<html>\n",
              "<head><meta charset=\"utf-8\" /></head>\n",
              "<body>\n",
              "    <div>            <script src=\"https://cdnjs.cloudflare.com/ajax/libs/mathjax/2.7.5/MathJax.js?config=TeX-AMS-MML_SVG\"></script><script type=\"text/javascript\">if (window.MathJax && window.MathJax.Hub && window.MathJax.Hub.Config) {window.MathJax.Hub.Config({SVG: {font: \"STIX-Web\"}});}</script>                <script type=\"text/javascript\">window.PlotlyConfig = {MathJaxConfig: 'local'};</script>\n",
              "        <script charset=\"utf-8\" src=\"https://cdn.plot.ly/plotly-2.35.2.min.js\"></script>                <div id=\"e3a489ab-ee9d-42ef-8e07-3cc105a53a42\" class=\"plotly-graph-div\" style=\"height:525px; width:100%;\"></div>            <script type=\"text/javascript\">                                    window.PLOTLYENV=window.PLOTLYENV || {};                                    if (document.getElementById(\"e3a489ab-ee9d-42ef-8e07-3cc105a53a42\")) {                    Plotly.newPlot(                        \"e3a489ab-ee9d-42ef-8e07-3cc105a53a42\",                        [{\"name\":\"Заданное значение\",\"x\":[1,2],\"y\":[10,10],\"type\":\"scatter\"},{\"name\":\"Среднее оценки, N=2n\",\"x\":[1,2],\"y\":[10.009668681409497,10.009739510884987],\"type\":\"scatter\"},{\"name\":\"Среднее оценки, N=n\",\"x\":[1,2],\"y\":[9.995791014202599,10.015745731212862],\"type\":\"scatter\"}],                        {\"template\":{\"data\":{\"histogram2dcontour\":[{\"type\":\"histogram2dcontour\",\"colorbar\":{\"outlinewidth\":0,\"ticks\":\"\"},\"colorscale\":[[0.0,\"#0d0887\"],[0.1111111111111111,\"#46039f\"],[0.2222222222222222,\"#7201a8\"],[0.3333333333333333,\"#9c179e\"],[0.4444444444444444,\"#bd3786\"],[0.5555555555555556,\"#d8576b\"],[0.6666666666666666,\"#ed7953\"],[0.7777777777777778,\"#fb9f3a\"],[0.8888888888888888,\"#fdca26\"],[1.0,\"#f0f921\"]]}],\"choropleth\":[{\"type\":\"choropleth\",\"colorbar\":{\"outlinewidth\":0,\"ticks\":\"\"}}],\"histogram2d\":[{\"type\":\"histogram2d\",\"colorbar\":{\"outlinewidth\":0,\"ticks\":\"\"},\"colorscale\":[[0.0,\"#0d0887\"],[0.1111111111111111,\"#46039f\"],[0.2222222222222222,\"#7201a8\"],[0.3333333333333333,\"#9c179e\"],[0.4444444444444444,\"#bd3786\"],[0.5555555555555556,\"#d8576b\"],[0.6666666666666666,\"#ed7953\"],[0.7777777777777778,\"#fb9f3a\"],[0.8888888888888888,\"#fdca26\"],[1.0,\"#f0f921\"]]}],\"heatmap\":[{\"type\":\"heatmap\",\"colorbar\":{\"outlinewidth\":0,\"ticks\":\"\"},\"colorscale\":[[0.0,\"#0d0887\"],[0.1111111111111111,\"#46039f\"],[0.2222222222222222,\"#7201a8\"],[0.3333333333333333,\"#9c179e\"],[0.4444444444444444,\"#bd3786\"],[0.5555555555555556,\"#d8576b\"],[0.6666666666666666,\"#ed7953\"],[0.7777777777777778,\"#fb9f3a\"],[0.8888888888888888,\"#fdca26\"],[1.0,\"#f0f921\"]]}],\"heatmapgl\":[{\"type\":\"heatmapgl\",\"colorbar\":{\"outlinewidth\":0,\"ticks\":\"\"},\"colorscale\":[[0.0,\"#0d0887\"],[0.1111111111111111,\"#46039f\"],[0.2222222222222222,\"#7201a8\"],[0.3333333333333333,\"#9c179e\"],[0.4444444444444444,\"#bd3786\"],[0.5555555555555556,\"#d8576b\"],[0.6666666666666666,\"#ed7953\"],[0.7777777777777778,\"#fb9f3a\"],[0.8888888888888888,\"#fdca26\"],[1.0,\"#f0f921\"]]}],\"contourcarpet\":[{\"type\":\"contourcarpet\",\"colorbar\":{\"outlinewidth\":0,\"ticks\":\"\"}}],\"contour\":[{\"type\":\"contour\",\"colorbar\":{\"outlinewidth\":0,\"ticks\":\"\"},\"colorscale\":[[0.0,\"#0d0887\"],[0.1111111111111111,\"#46039f\"],[0.2222222222222222,\"#7201a8\"],[0.3333333333333333,\"#9c179e\"],[0.4444444444444444,\"#bd3786\"],[0.5555555555555556,\"#d8576b\"],[0.6666666666666666,\"#ed7953\"],[0.7777777777777778,\"#fb9f3a\"],[0.8888888888888888,\"#fdca26\"],[1.0,\"#f0f921\"]]}],\"surface\":[{\"type\":\"surface\",\"colorbar\":{\"outlinewidth\":0,\"ticks\":\"\"},\"colorscale\":[[0.0,\"#0d0887\"],[0.1111111111111111,\"#46039f\"],[0.2222222222222222,\"#7201a8\"],[0.3333333333333333,\"#9c179e\"],[0.4444444444444444,\"#bd3786\"],[0.5555555555555556,\"#d8576b\"],[0.6666666666666666,\"#ed7953\"],[0.7777777777777778,\"#fb9f3a\"],[0.8888888888888888,\"#fdca26\"],[1.0,\"#f0f921\"]]}],\"mesh3d\":[{\"type\":\"mesh3d\",\"colorbar\":{\"outlinewidth\":0,\"ticks\":\"\"}}],\"scatter\":[{\"fillpattern\":{\"fillmode\":\"overlay\",\"size\":10,\"solidity\":0.2},\"type\":\"scatter\"}],\"parcoords\":[{\"type\":\"parcoords\",\"line\":{\"colorbar\":{\"outlinewidth\":0,\"ticks\":\"\"}}}],\"scatterpolargl\":[{\"type\":\"scatterpolargl\",\"marker\":{\"colorbar\":{\"outlinewidth\":0,\"ticks\":\"\"}}}],\"bar\":[{\"error_x\":{\"color\":\"#2a3f5f\"},\"error_y\":{\"color\":\"#2a3f5f\"},\"marker\":{\"line\":{\"color\":\"#E5ECF6\",\"width\":0.5},\"pattern\":{\"fillmode\":\"overlay\",\"size\":10,\"solidity\":0.2}},\"type\":\"bar\"}],\"scattergeo\":[{\"type\":\"scattergeo\",\"marker\":{\"colorbar\":{\"outlinewidth\":0,\"ticks\":\"\"}}}],\"scatterpolar\":[{\"type\":\"scatterpolar\",\"marker\":{\"colorbar\":{\"outlinewidth\":0,\"ticks\":\"\"}}}],\"histogram\":[{\"marker\":{\"pattern\":{\"fillmode\":\"overlay\",\"size\":10,\"solidity\":0.2}},\"type\":\"histogram\"}],\"scattergl\":[{\"type\":\"scattergl\",\"marker\":{\"colorbar\":{\"outlinewidth\":0,\"ticks\":\"\"}}}],\"scatter3d\":[{\"type\":\"scatter3d\",\"line\":{\"colorbar\":{\"outlinewidth\":0,\"ticks\":\"\"}},\"marker\":{\"colorbar\":{\"outlinewidth\":0,\"ticks\":\"\"}}}],\"scattermapbox\":[{\"type\":\"scattermapbox\",\"marker\":{\"colorbar\":{\"outlinewidth\":0,\"ticks\":\"\"}}}],\"scatterternary\":[{\"type\":\"scatterternary\",\"marker\":{\"colorbar\":{\"outlinewidth\":0,\"ticks\":\"\"}}}],\"scattercarpet\":[{\"type\":\"scattercarpet\",\"marker\":{\"colorbar\":{\"outlinewidth\":0,\"ticks\":\"\"}}}],\"carpet\":[{\"aaxis\":{\"endlinecolor\":\"#2a3f5f\",\"gridcolor\":\"white\",\"linecolor\":\"white\",\"minorgridcolor\":\"white\",\"startlinecolor\":\"#2a3f5f\"},\"baxis\":{\"endlinecolor\":\"#2a3f5f\",\"gridcolor\":\"white\",\"linecolor\":\"white\",\"minorgridcolor\":\"white\",\"startlinecolor\":\"#2a3f5f\"},\"type\":\"carpet\"}],\"table\":[{\"cells\":{\"fill\":{\"color\":\"#EBF0F8\"},\"line\":{\"color\":\"white\"}},\"header\":{\"fill\":{\"color\":\"#C8D4E3\"},\"line\":{\"color\":\"white\"}},\"type\":\"table\"}],\"barpolar\":[{\"marker\":{\"line\":{\"color\":\"#E5ECF6\",\"width\":0.5},\"pattern\":{\"fillmode\":\"overlay\",\"size\":10,\"solidity\":0.2}},\"type\":\"barpolar\"}],\"pie\":[{\"automargin\":true,\"type\":\"pie\"}]},\"layout\":{\"autotypenumbers\":\"strict\",\"colorway\":[\"#636efa\",\"#EF553B\",\"#00cc96\",\"#ab63fa\",\"#FFA15A\",\"#19d3f3\",\"#FF6692\",\"#B6E880\",\"#FF97FF\",\"#FECB52\"],\"font\":{\"color\":\"#2a3f5f\"},\"hovermode\":\"closest\",\"hoverlabel\":{\"align\":\"left\"},\"paper_bgcolor\":\"white\",\"plot_bgcolor\":\"#E5ECF6\",\"polar\":{\"bgcolor\":\"#E5ECF6\",\"angularaxis\":{\"gridcolor\":\"white\",\"linecolor\":\"white\",\"ticks\":\"\"},\"radialaxis\":{\"gridcolor\":\"white\",\"linecolor\":\"white\",\"ticks\":\"\"}},\"ternary\":{\"bgcolor\":\"#E5ECF6\",\"aaxis\":{\"gridcolor\":\"white\",\"linecolor\":\"white\",\"ticks\":\"\"},\"baxis\":{\"gridcolor\":\"white\",\"linecolor\":\"white\",\"ticks\":\"\"},\"caxis\":{\"gridcolor\":\"white\",\"linecolor\":\"white\",\"ticks\":\"\"}},\"coloraxis\":{\"colorbar\":{\"outlinewidth\":0,\"ticks\":\"\"}},\"colorscale\":{\"sequential\":[[0.0,\"#0d0887\"],[0.1111111111111111,\"#46039f\"],[0.2222222222222222,\"#7201a8\"],[0.3333333333333333,\"#9c179e\"],[0.4444444444444444,\"#bd3786\"],[0.5555555555555556,\"#d8576b\"],[0.6666666666666666,\"#ed7953\"],[0.7777777777777778,\"#fb9f3a\"],[0.8888888888888888,\"#fdca26\"],[1.0,\"#f0f921\"]],\"sequentialminus\":[[0.0,\"#0d0887\"],[0.1111111111111111,\"#46039f\"],[0.2222222222222222,\"#7201a8\"],[0.3333333333333333,\"#9c179e\"],[0.4444444444444444,\"#bd3786\"],[0.5555555555555556,\"#d8576b\"],[0.6666666666666666,\"#ed7953\"],[0.7777777777777778,\"#fb9f3a\"],[0.8888888888888888,\"#fdca26\"],[1.0,\"#f0f921\"]],\"diverging\":[[0,\"#8e0152\"],[0.1,\"#c51b7d\"],[0.2,\"#de77ae\"],[0.3,\"#f1b6da\"],[0.4,\"#fde0ef\"],[0.5,\"#f7f7f7\"],[0.6,\"#e6f5d0\"],[0.7,\"#b8e186\"],[0.8,\"#7fbc41\"],[0.9,\"#4d9221\"],[1,\"#276419\"]]},\"xaxis\":{\"gridcolor\":\"white\",\"linecolor\":\"white\",\"ticks\":\"\",\"title\":{\"standoff\":15},\"zerolinecolor\":\"white\",\"automargin\":true,\"zerolinewidth\":2},\"yaxis\":{\"gridcolor\":\"white\",\"linecolor\":\"white\",\"ticks\":\"\",\"title\":{\"standoff\":15},\"zerolinecolor\":\"white\",\"automargin\":true,\"zerolinewidth\":2},\"scene\":{\"xaxis\":{\"backgroundcolor\":\"#E5ECF6\",\"gridcolor\":\"white\",\"linecolor\":\"white\",\"showbackground\":true,\"ticks\":\"\",\"zerolinecolor\":\"white\",\"gridwidth\":2},\"yaxis\":{\"backgroundcolor\":\"#E5ECF6\",\"gridcolor\":\"white\",\"linecolor\":\"white\",\"showbackground\":true,\"ticks\":\"\",\"zerolinecolor\":\"white\",\"gridwidth\":2},\"zaxis\":{\"backgroundcolor\":\"#E5ECF6\",\"gridcolor\":\"white\",\"linecolor\":\"white\",\"showbackground\":true,\"ticks\":\"\",\"zerolinecolor\":\"white\",\"gridwidth\":2}},\"shapedefaults\":{\"line\":{\"color\":\"#2a3f5f\"}},\"annotationdefaults\":{\"arrowcolor\":\"#2a3f5f\",\"arrowhead\":0,\"arrowwidth\":1},\"geo\":{\"bgcolor\":\"white\",\"landcolor\":\"#E5ECF6\",\"subunitcolor\":\"white\",\"showland\":true,\"showlakes\":true,\"lakecolor\":\"white\"},\"title\":{\"x\":0.05},\"mapbox\":{\"style\":\"light\"}}},\"xaxis\":{\"type\":\"log\",\"title\":{\"text\":\"Размер выборки\"}},\"title\":{\"text\":\"Проверка несмещённости оценок\"},\"yaxis\":{\"title\":{\"text\":\"Значение параметра\"}}},                        {\"responsive\": true}                    ).then(function(){\n",
              "                            \n",
              "var gd = document.getElementById('e3a489ab-ee9d-42ef-8e07-3cc105a53a42');\n",
              "var x = new MutationObserver(function (mutations, observer) {{\n",
              "        var display = window.getComputedStyle(gd).display;\n",
              "        if (!display || display === 'none') {{\n",
              "            console.log([gd, 'removed!']);\n",
              "            Plotly.purge(gd);\n",
              "            observer.disconnect();\n",
              "        }}\n",
              "}});\n",
              "\n",
              "// Listen for the removal of the full notebook cells\n",
              "var notebookContainer = gd.closest('#notebook-container');\n",
              "if (notebookContainer) {{\n",
              "    x.observe(notebookContainer, {childList: true});\n",
              "}}\n",
              "\n",
              "// Listen for the clearing of the current output cell\n",
              "var outputEl = gd.closest('.output');\n",
              "if (outputEl) {{\n",
              "    x.observe(outputEl, {childList: true});\n",
              "}}\n",
              "\n",
              "                        })                };                            </script>        </div>\n",
              "</body>\n",
              "</html>"
            ]
          },
          "metadata": {}
        }
      ]
    },
    {
      "cell_type": "code",
      "source": [
        "fig.show()"
      ],
      "metadata": {
        "colab": {
          "base_uri": "https://localhost:8080/",
          "height": 542
        },
        "id": "ZJH5TBWChhpr",
        "outputId": "da00588c-9df4-47b6-d40b-12962f29c2b2"
      },
      "execution_count": null,
      "outputs": [
        {
          "output_type": "display_data",
          "data": {
            "text/html": [
              "<html>\n",
              "<head><meta charset=\"utf-8\" /></head>\n",
              "<body>\n",
              "    <div>            <script src=\"https://cdnjs.cloudflare.com/ajax/libs/mathjax/2.7.5/MathJax.js?config=TeX-AMS-MML_SVG\"></script><script type=\"text/javascript\">if (window.MathJax && window.MathJax.Hub && window.MathJax.Hub.Config) {window.MathJax.Hub.Config({SVG: {font: \"STIX-Web\"}});}</script>                <script type=\"text/javascript\">window.PlotlyConfig = {MathJaxConfig: 'local'};</script>\n",
              "        <script charset=\"utf-8\" src=\"https://cdn.plot.ly/plotly-2.35.2.min.js\"></script>                <div id=\"a6e94cbb-f944-4faf-b69b-f59c0684bde8\" class=\"plotly-graph-div\" style=\"height:525px; width:100%;\"></div>            <script type=\"text/javascript\">                                    window.PLOTLYENV=window.PLOTLYENV || {};                                    if (document.getElementById(\"a6e94cbb-f944-4faf-b69b-f59c0684bde8\")) {                    Plotly.newPlot(                        \"a6e94cbb-f944-4faf-b69b-f59c0684bde8\",                        [{\"name\":\"Заданное значение\",\"x\":[1,2],\"y\":[10,10],\"type\":\"scatter\"},{\"name\":\"Среднее оценки, N=2n\",\"x\":[1,2],\"y\":[10.009668681409497,10.009739510884987],\"type\":\"scatter\"},{\"name\":\"Среднее оценки, N=n\",\"x\":[1,2],\"y\":[9.995791014202599,10.015745731212862],\"type\":\"scatter\"}],                        {\"template\":{\"data\":{\"histogram2dcontour\":[{\"type\":\"histogram2dcontour\",\"colorbar\":{\"outlinewidth\":0,\"ticks\":\"\"},\"colorscale\":[[0.0,\"#0d0887\"],[0.1111111111111111,\"#46039f\"],[0.2222222222222222,\"#7201a8\"],[0.3333333333333333,\"#9c179e\"],[0.4444444444444444,\"#bd3786\"],[0.5555555555555556,\"#d8576b\"],[0.6666666666666666,\"#ed7953\"],[0.7777777777777778,\"#fb9f3a\"],[0.8888888888888888,\"#fdca26\"],[1.0,\"#f0f921\"]]}],\"choropleth\":[{\"type\":\"choropleth\",\"colorbar\":{\"outlinewidth\":0,\"ticks\":\"\"}}],\"histogram2d\":[{\"type\":\"histogram2d\",\"colorbar\":{\"outlinewidth\":0,\"ticks\":\"\"},\"colorscale\":[[0.0,\"#0d0887\"],[0.1111111111111111,\"#46039f\"],[0.2222222222222222,\"#7201a8\"],[0.3333333333333333,\"#9c179e\"],[0.4444444444444444,\"#bd3786\"],[0.5555555555555556,\"#d8576b\"],[0.6666666666666666,\"#ed7953\"],[0.7777777777777778,\"#fb9f3a\"],[0.8888888888888888,\"#fdca26\"],[1.0,\"#f0f921\"]]}],\"heatmap\":[{\"type\":\"heatmap\",\"colorbar\":{\"outlinewidth\":0,\"ticks\":\"\"},\"colorscale\":[[0.0,\"#0d0887\"],[0.1111111111111111,\"#46039f\"],[0.2222222222222222,\"#7201a8\"],[0.3333333333333333,\"#9c179e\"],[0.4444444444444444,\"#bd3786\"],[0.5555555555555556,\"#d8576b\"],[0.6666666666666666,\"#ed7953\"],[0.7777777777777778,\"#fb9f3a\"],[0.8888888888888888,\"#fdca26\"],[1.0,\"#f0f921\"]]}],\"heatmapgl\":[{\"type\":\"heatmapgl\",\"colorbar\":{\"outlinewidth\":0,\"ticks\":\"\"},\"colorscale\":[[0.0,\"#0d0887\"],[0.1111111111111111,\"#46039f\"],[0.2222222222222222,\"#7201a8\"],[0.3333333333333333,\"#9c179e\"],[0.4444444444444444,\"#bd3786\"],[0.5555555555555556,\"#d8576b\"],[0.6666666666666666,\"#ed7953\"],[0.7777777777777778,\"#fb9f3a\"],[0.8888888888888888,\"#fdca26\"],[1.0,\"#f0f921\"]]}],\"contourcarpet\":[{\"type\":\"contourcarpet\",\"colorbar\":{\"outlinewidth\":0,\"ticks\":\"\"}}],\"contour\":[{\"type\":\"contour\",\"colorbar\":{\"outlinewidth\":0,\"ticks\":\"\"},\"colorscale\":[[0.0,\"#0d0887\"],[0.1111111111111111,\"#46039f\"],[0.2222222222222222,\"#7201a8\"],[0.3333333333333333,\"#9c179e\"],[0.4444444444444444,\"#bd3786\"],[0.5555555555555556,\"#d8576b\"],[0.6666666666666666,\"#ed7953\"],[0.7777777777777778,\"#fb9f3a\"],[0.8888888888888888,\"#fdca26\"],[1.0,\"#f0f921\"]]}],\"surface\":[{\"type\":\"surface\",\"colorbar\":{\"outlinewidth\":0,\"ticks\":\"\"},\"colorscale\":[[0.0,\"#0d0887\"],[0.1111111111111111,\"#46039f\"],[0.2222222222222222,\"#7201a8\"],[0.3333333333333333,\"#9c179e\"],[0.4444444444444444,\"#bd3786\"],[0.5555555555555556,\"#d8576b\"],[0.6666666666666666,\"#ed7953\"],[0.7777777777777778,\"#fb9f3a\"],[0.8888888888888888,\"#fdca26\"],[1.0,\"#f0f921\"]]}],\"mesh3d\":[{\"type\":\"mesh3d\",\"colorbar\":{\"outlinewidth\":0,\"ticks\":\"\"}}],\"scatter\":[{\"fillpattern\":{\"fillmode\":\"overlay\",\"size\":10,\"solidity\":0.2},\"type\":\"scatter\"}],\"parcoords\":[{\"type\":\"parcoords\",\"line\":{\"colorbar\":{\"outlinewidth\":0,\"ticks\":\"\"}}}],\"scatterpolargl\":[{\"type\":\"scatterpolargl\",\"marker\":{\"colorbar\":{\"outlinewidth\":0,\"ticks\":\"\"}}}],\"bar\":[{\"error_x\":{\"color\":\"#2a3f5f\"},\"error_y\":{\"color\":\"#2a3f5f\"},\"marker\":{\"line\":{\"color\":\"#E5ECF6\",\"width\":0.5},\"pattern\":{\"fillmode\":\"overlay\",\"size\":10,\"solidity\":0.2}},\"type\":\"bar\"}],\"scattergeo\":[{\"type\":\"scattergeo\",\"marker\":{\"colorbar\":{\"outlinewidth\":0,\"ticks\":\"\"}}}],\"scatterpolar\":[{\"type\":\"scatterpolar\",\"marker\":{\"colorbar\":{\"outlinewidth\":0,\"ticks\":\"\"}}}],\"histogram\":[{\"marker\":{\"pattern\":{\"fillmode\":\"overlay\",\"size\":10,\"solidity\":0.2}},\"type\":\"histogram\"}],\"scattergl\":[{\"type\":\"scattergl\",\"marker\":{\"colorbar\":{\"outlinewidth\":0,\"ticks\":\"\"}}}],\"scatter3d\":[{\"type\":\"scatter3d\",\"line\":{\"colorbar\":{\"outlinewidth\":0,\"ticks\":\"\"}},\"marker\":{\"colorbar\":{\"outlinewidth\":0,\"ticks\":\"\"}}}],\"scattermapbox\":[{\"type\":\"scattermapbox\",\"marker\":{\"colorbar\":{\"outlinewidth\":0,\"ticks\":\"\"}}}],\"scatterternary\":[{\"type\":\"scatterternary\",\"marker\":{\"colorbar\":{\"outlinewidth\":0,\"ticks\":\"\"}}}],\"scattercarpet\":[{\"type\":\"scattercarpet\",\"marker\":{\"colorbar\":{\"outlinewidth\":0,\"ticks\":\"\"}}}],\"carpet\":[{\"aaxis\":{\"endlinecolor\":\"#2a3f5f\",\"gridcolor\":\"white\",\"linecolor\":\"white\",\"minorgridcolor\":\"white\",\"startlinecolor\":\"#2a3f5f\"},\"baxis\":{\"endlinecolor\":\"#2a3f5f\",\"gridcolor\":\"white\",\"linecolor\":\"white\",\"minorgridcolor\":\"white\",\"startlinecolor\":\"#2a3f5f\"},\"type\":\"carpet\"}],\"table\":[{\"cells\":{\"fill\":{\"color\":\"#EBF0F8\"},\"line\":{\"color\":\"white\"}},\"header\":{\"fill\":{\"color\":\"#C8D4E3\"},\"line\":{\"color\":\"white\"}},\"type\":\"table\"}],\"barpolar\":[{\"marker\":{\"line\":{\"color\":\"#E5ECF6\",\"width\":0.5},\"pattern\":{\"fillmode\":\"overlay\",\"size\":10,\"solidity\":0.2}},\"type\":\"barpolar\"}],\"pie\":[{\"automargin\":true,\"type\":\"pie\"}]},\"layout\":{\"autotypenumbers\":\"strict\",\"colorway\":[\"#636efa\",\"#EF553B\",\"#00cc96\",\"#ab63fa\",\"#FFA15A\",\"#19d3f3\",\"#FF6692\",\"#B6E880\",\"#FF97FF\",\"#FECB52\"],\"font\":{\"color\":\"#2a3f5f\"},\"hovermode\":\"closest\",\"hoverlabel\":{\"align\":\"left\"},\"paper_bgcolor\":\"white\",\"plot_bgcolor\":\"#E5ECF6\",\"polar\":{\"bgcolor\":\"#E5ECF6\",\"angularaxis\":{\"gridcolor\":\"white\",\"linecolor\":\"white\",\"ticks\":\"\"},\"radialaxis\":{\"gridcolor\":\"white\",\"linecolor\":\"white\",\"ticks\":\"\"}},\"ternary\":{\"bgcolor\":\"#E5ECF6\",\"aaxis\":{\"gridcolor\":\"white\",\"linecolor\":\"white\",\"ticks\":\"\"},\"baxis\":{\"gridcolor\":\"white\",\"linecolor\":\"white\",\"ticks\":\"\"},\"caxis\":{\"gridcolor\":\"white\",\"linecolor\":\"white\",\"ticks\":\"\"}},\"coloraxis\":{\"colorbar\":{\"outlinewidth\":0,\"ticks\":\"\"}},\"colorscale\":{\"sequential\":[[0.0,\"#0d0887\"],[0.1111111111111111,\"#46039f\"],[0.2222222222222222,\"#7201a8\"],[0.3333333333333333,\"#9c179e\"],[0.4444444444444444,\"#bd3786\"],[0.5555555555555556,\"#d8576b\"],[0.6666666666666666,\"#ed7953\"],[0.7777777777777778,\"#fb9f3a\"],[0.8888888888888888,\"#fdca26\"],[1.0,\"#f0f921\"]],\"sequentialminus\":[[0.0,\"#0d0887\"],[0.1111111111111111,\"#46039f\"],[0.2222222222222222,\"#7201a8\"],[0.3333333333333333,\"#9c179e\"],[0.4444444444444444,\"#bd3786\"],[0.5555555555555556,\"#d8576b\"],[0.6666666666666666,\"#ed7953\"],[0.7777777777777778,\"#fb9f3a\"],[0.8888888888888888,\"#fdca26\"],[1.0,\"#f0f921\"]],\"diverging\":[[0,\"#8e0152\"],[0.1,\"#c51b7d\"],[0.2,\"#de77ae\"],[0.3,\"#f1b6da\"],[0.4,\"#fde0ef\"],[0.5,\"#f7f7f7\"],[0.6,\"#e6f5d0\"],[0.7,\"#b8e186\"],[0.8,\"#7fbc41\"],[0.9,\"#4d9221\"],[1,\"#276419\"]]},\"xaxis\":{\"gridcolor\":\"white\",\"linecolor\":\"white\",\"ticks\":\"\",\"title\":{\"standoff\":15},\"zerolinecolor\":\"white\",\"automargin\":true,\"zerolinewidth\":2},\"yaxis\":{\"gridcolor\":\"white\",\"linecolor\":\"white\",\"ticks\":\"\",\"title\":{\"standoff\":15},\"zerolinecolor\":\"white\",\"automargin\":true,\"zerolinewidth\":2},\"scene\":{\"xaxis\":{\"backgroundcolor\":\"#E5ECF6\",\"gridcolor\":\"white\",\"linecolor\":\"white\",\"showbackground\":true,\"ticks\":\"\",\"zerolinecolor\":\"white\",\"gridwidth\":2},\"yaxis\":{\"backgroundcolor\":\"#E5ECF6\",\"gridcolor\":\"white\",\"linecolor\":\"white\",\"showbackground\":true,\"ticks\":\"\",\"zerolinecolor\":\"white\",\"gridwidth\":2},\"zaxis\":{\"backgroundcolor\":\"#E5ECF6\",\"gridcolor\":\"white\",\"linecolor\":\"white\",\"showbackground\":true,\"ticks\":\"\",\"zerolinecolor\":\"white\",\"gridwidth\":2}},\"shapedefaults\":{\"line\":{\"color\":\"#2a3f5f\"}},\"annotationdefaults\":{\"arrowcolor\":\"#2a3f5f\",\"arrowhead\":0,\"arrowwidth\":1},\"geo\":{\"bgcolor\":\"white\",\"landcolor\":\"#E5ECF6\",\"subunitcolor\":\"white\",\"showland\":true,\"showlakes\":true,\"lakecolor\":\"white\"},\"title\":{\"x\":0.05},\"mapbox\":{\"style\":\"light\"}}},\"xaxis\":{\"type\":\"log\",\"title\":{\"text\":\"Размер выборки\"}},\"title\":{\"text\":\"Проверка несмещённости оценок\"},\"yaxis\":{\"title\":{\"text\":\"Значение параметра\"}}},                        {\"responsive\": true}                    ).then(function(){\n",
              "                            \n",
              "var gd = document.getElementById('a6e94cbb-f944-4faf-b69b-f59c0684bde8');\n",
              "var x = new MutationObserver(function (mutations, observer) {{\n",
              "        var display = window.getComputedStyle(gd).display;\n",
              "        if (!display || display === 'none') {{\n",
              "            console.log([gd, 'removed!']);\n",
              "            Plotly.purge(gd);\n",
              "            observer.disconnect();\n",
              "        }}\n",
              "}});\n",
              "\n",
              "// Listen for the removal of the full notebook cells\n",
              "var notebookContainer = gd.closest('#notebook-container');\n",
              "if (notebookContainer) {{\n",
              "    x.observe(notebookContainer, {childList: true});\n",
              "}}\n",
              "\n",
              "// Listen for the clearing of the current output cell\n",
              "var outputEl = gd.closest('.output');\n",
              "if (outputEl) {{\n",
              "    x.observe(outputEl, {childList: true});\n",
              "}}\n",
              "\n",
              "                        })                };                            </script>        </div>\n",
              "</body>\n",
              "</html>"
            ]
          },
          "metadata": {}
        }
      ]
    },
    {
      "cell_type": "code",
      "source": [
        "std_all  = np.mean(std_mu_est_list)\n",
        "std_half = np.mean(half_std_mu_est_list)\n",
        "\n",
        "mean_all  = np.mean(mean_mu_est_list)\n",
        "mean_half = np.mean(half_mean_mu_est_list)"
      ],
      "metadata": {
        "id": "nZCr5w1toT0_"
      },
      "execution_count": null,
      "outputs": []
    },
    {
      "cell_type": "code",
      "source": [
        "print(f'M={sample_size}, std=\\'{std_all:6f}\\', mean=\\'{mean_all:6f}\\'')\n",
        "print(f'M={sample_size//2}, std=\\'{std_half:6f}\\', mean=\\'{mean_half:6f}\\'')\n",
        "print(f'std_half/std_all=\\'{std_half/std_all}\\'')"
      ],
      "metadata": {
        "colab": {
          "base_uri": "https://localhost:8080/"
        },
        "id": "J-ymZwRMqNs3",
        "outputId": "d0d03331-6d4c-4636-ec8b-1a79af43e2ba"
      },
      "execution_count": null,
      "outputs": [
        {
          "output_type": "stream",
          "name": "stdout",
          "text": [
            "M=12, std='28.704030', mean='10.142144'\n",
            "M=6, std='40.497639', mean='10.499951'\n",
            "std_half/std_all='1.4108694331059666'\n"
          ]
        }
      ]
    },
    {
      "cell_type": "markdown",
      "source": [
        "## Точный доверительный интервал"
      ],
      "metadata": {
        "id": "rWkfzn7-9Wfd"
      }
    },
    {
      "cell_type": "markdown",
      "source": [
        "\n",
        "$$\n",
        "m \\in I = \\left(\\overline{X} + z_{\\alpha/2} \\frac{10}{\\sqrt{n}},\n",
        "\\overline{X} + z_{1-\\alpha/2} \\frac{10}{\\sqrt{n}}\\right).\n",
        "$$"
      ],
      "metadata": {
        "id": "93wf9RMbzPEb"
      }
    },
    {
      "cell_type": "code",
      "source": [
        "def exact_solution(p: float, x: np.array) -> float:\n",
        "    alpha = 1 - p\n",
        "    return x.mean() + 10 * norm.ppf(alpha / 2) / np.sqrt(len(x)), \\\n",
        "           x.mean() + 10 * norm.ppf(1 - alpha / 2) / np.sqrt(len(x))"
      ],
      "metadata": {
        "id": "EFCKm5kKz4Rr"
      },
      "execution_count": null,
      "outputs": []
    },
    {
      "cell_type": "code",
      "source": [
        "solution = exact_solution\n",
        "\n",
        "mu = 250\n",
        "sigma = 10\n",
        "p = 0.95\n",
        "\n",
        "iter_size = 100\n",
        "sample_size_list = [\n",
        "    10,\n",
        "    100,\n",
        "    1000\n",
        "]\n",
        "color_map = {\n",
        "    10: \"red\",\n",
        "    100: \"blue\",\n",
        "    1000: \"green\"\n",
        "}\n",
        "\n",
        "fig = go.Figure()\n",
        "fig.add_trace(go.Scatter(x=[1, iter_size],\n",
        "                         y=[mu, mu],\n",
        "                         name=\"Заданное значение\",\n",
        "                         line={\"color\": \"black\"}))\n",
        "\n",
        "for sample_size in sample_size_list:\n",
        "\n",
        "    x = norm(loc=mu, scale=sigma).rvs(size=[iter_size, sample_size], random_state=42)\n",
        "    left_side_list = []\n",
        "    right_side_list = []\n",
        "\n",
        "    for i in range(iter_size):\n",
        "        left_side, right_side = solution(p, x[i])\n",
        "        left_side_list.append(left_side)\n",
        "        right_side_list.append(right_side)\n",
        "\n",
        "    fig.add_trace(go.Scatter(x=1 + np.arange(iter_size),\n",
        "                             y=left_side_list,\n",
        "                             name=f\"Нижняя граница, n = {sample_size}\",\n",
        "                             line={\"color\": color_map[sample_size]}))\n",
        "\n",
        "    fig.add_trace(go.Scatter(x=1 + np.arange(iter_size),\n",
        "                             y=right_side_list,\n",
        "                             name=f\"Верхняя граница, n = {sample_size}\",\n",
        "                             line={\"color\": color_map[sample_size]}))\n",
        "\n",
        "fig.update_layout(title=\"Проверка доверительного интервала\",\n",
        "                  xaxis_title=\"Номер итерации\",\n",
        "                  yaxis_title=\"Значение параметра\")\n",
        "fig.show()"
      ],
      "metadata": {
        "colab": {
          "base_uri": "https://localhost:8080/",
          "height": 542
        },
        "id": "SU4iZxgszkVb",
        "outputId": "b4d86755-5895-4764-fdec-321e8e26c7aa"
      },
      "execution_count": null,
      "outputs": [
        {
          "output_type": "display_data",
          "data": {
            "text/html": [
              "<html>\n",
              "<head><meta charset=\"utf-8\" /></head>\n",
              "<body>\n",
              "    <div>            <script src=\"https://cdnjs.cloudflare.com/ajax/libs/mathjax/2.7.5/MathJax.js?config=TeX-AMS-MML_SVG\"></script><script type=\"text/javascript\">if (window.MathJax && window.MathJax.Hub && window.MathJax.Hub.Config) {window.MathJax.Hub.Config({SVG: {font: \"STIX-Web\"}});}</script>                <script type=\"text/javascript\">window.PlotlyConfig = {MathJaxConfig: 'local'};</script>\n",
              "        <script charset=\"utf-8\" src=\"https://cdn.plot.ly/plotly-2.24.1.min.js\"></script>                <div id=\"34b2f2ac-653c-41e7-b731-4e1b6c98acae\" class=\"plotly-graph-div\" style=\"height:525px; width:100%;\"></div>            <script type=\"text/javascript\">                                    window.PLOTLYENV=window.PLOTLYENV || {};                                    if (document.getElementById(\"34b2f2ac-653c-41e7-b731-4e1b6c98acae\")) {                    Plotly.newPlot(                        \"34b2f2ac-653c-41e7-b731-4e1b6c98acae\",                        [{\"line\":{\"color\":\"black\"},\"name\":\"\\u0417\\u0430\\u0434\\u0430\\u043d\\u043d\\u043e\\u0435 \\u0437\\u043d\\u0430\\u0447\\u0435\\u043d\\u0438\\u0435\",\"x\":[1,100],\"y\":[250,250],\"type\":\"scatter\"},{\"line\":{\"color\":\"red\"},\"name\":\"\\u041d\\u0438\\u0436\\u043d\\u044f\\u044f \\u0433\\u0440\\u0430\\u043d\\u0438\\u0446\\u0430, n = 10\",\"x\":[1,2,3,4,5,6,7,8,9,10,11,12,13,14,15,16,17,18,19,20,21,22,23,24,25,26,27,28,29,30,31,32,33,34,35,36,37,38,39,40,41,42,43,44,45,46,47,48,49,50,51,52,53,54,55,56,57,58,59,60,61,62,63,64,65,66,67,68,69,70,71,72,73,74,75,76,77,78,79,80,81,82,83,84,85,86,87,88,89,90,91,92,93,94,95,96,97,98,99,100],\"y\":[248.28266079394191,235.89546733113028,241.58361403025987,240.7009830157679,241.27382795086496,245.796463955532,243.6514797620778,243.3246884456252,244.81652399732687,242.31013574760772,243.30767516053774,245.18078932606198,244.50129179319472,240.83908620078086,243.21702757072552,245.33479831113982,247.04825178959413,247.3866975785189,241.5114448634138,241.92389288056887,249.9385808460905,246.14446558875974,242.8908353822398,243.8119348369002,243.77289873481604,246.38774025356102,236.94255355111326,243.7447837577739,245.20166904854236,245.67466007979192,244.8979615214255,248.2142634723124,246.750402159328,241.82157759424504,238.93511203151866,244.45280482207326,245.99736139495113,250.55797476128404,241.6959925657782,245.38105851635822,241.25799030092415,245.63005486508064,249.37556575371718,241.09373018950032,239.21569930711598,239.99590303842,245.24835013719562,247.55895453174716,239.97766500976599,243.06613658504233,242.4254643925562,243.4284579512614,237.79178662604855,240.08202066874478,242.3520554051304,244.1341940796149,242.23694880174006,244.89465003497278,245.7238664574479,243.42049252573824,245.8512276242844,247.67033807753091,247.82698376188472,238.69873423039348,240.56817588978365,248.0782629930622,241.18848794719,242.92421588075845,243.39047195999078,244.23298474111905,241.35380346308207,244.68020981361042,240.82959505959747,247.14550965339248,237.28799109100146,243.8079896686667,249.17983685041364,244.17546512459884,244.83773667775571,244.10630221669197,243.21899986537227,246.66970922764935,247.9927908785572,241.28901873905582,245.9217285008771,243.7445881461675,248.12119219896476,243.3561338575875,250.80542808563504,249.76581394955863,247.51725280471194,246.26614673774364,244.27193850670614,240.7859933015693,242.70210034262564,246.95719325447175,247.68344649349578,237.40172402669685,245.02333492734354,242.19674886286825],\"type\":\"scatter\"},{\"line\":{\"color\":\"red\"},\"name\":\"\\u0412\\u0435\\u0440\\u0445\\u043d\\u044f\\u044f \\u0433\\u0440\\u0430\\u043d\\u0438\\u0446\\u0430, n = 10\",\"x\":[1,2,3,4,5,6,7,8,9,10,11,12,13,14,15,16,17,18,19,20,21,22,23,24,25,26,27,28,29,30,31,32,33,34,35,36,37,38,39,40,41,42,43,44,45,46,47,48,49,50,51,52,53,54,55,56,57,58,59,60,61,62,63,64,65,66,67,68,69,70,71,72,73,74,75,76,77,78,79,80,81,82,83,84,85,86,87,88,89,90,91,92,93,94,95,96,97,98,99,100],\"y\":[260.67856144003315,248.29136797722148,253.97951467635107,253.0968836618591,253.66972859695616,258.19236460162324,256.04738040816903,255.72058909171642,257.2124246434181,254.70603639369892,255.70357580662895,257.5766899721532,256.89719243928596,253.23498684687206,255.61292821681673,257.730698957231,259.44415243568534,259.7825982246101,253.907345509505,254.31979352666008,262.33448149218174,258.540366234851,255.286736028331,256.2078354829914,256.1687993809073,258.78364089965226,249.33845419720447,256.1406844038651,257.5975696946336,258.0705607258831,257.2938621675167,260.61016411840365,259.1463028054192,254.21747824033625,251.33101267760986,256.8487054681645,258.39326204104236,262.9538754073753,254.0918932118694,257.77695916244943,253.65389094701536,258.02595551117184,261.7714663998084,253.48963083559153,251.6115999532072,252.39180368451122,257.64425078328685,259.9548551778384,252.3735656558572,255.46203723113354,254.8213650386474,255.8243585973526,250.18768727213975,252.47792131483598,254.7479560512216,256.53009472570614,254.63284944783126,257.290550681064,258.1197671035391,255.81639317182945,258.24712827037564,260.0662387236221,260.2228844079759,251.0946348764847,252.96407653587485,260.4741636391534,253.5843885932812,255.32011652684966,255.78637260608198,256.6288853872103,253.74970410917328,257.0761104597016,253.22549570568867,259.5414102994837,249.68389173709267,256.2038903147579,261.57573749650487,256.5713657706901,257.23363732384695,256.5022028627832,255.61490051146347,259.0656098737406,260.38869152464844,253.68491938514703,258.31762914696833,256.14048879225874,260.51709284505597,255.75203450367871,263.2013287317263,262.16171459564987,259.9131534508032,258.6620473838349,256.66783915279734,253.1818939476605,255.09800098871685,259.35309390056295,260.079347139587,249.79762467278806,257.4192355734348,254.59264950895945],\"type\":\"scatter\"},{\"line\":{\"color\":\"blue\"},\"name\":\"\\u041d\\u0438\\u0436\\u043d\\u044f\\u044f \\u0433\\u0440\\u0430\\u043d\\u0438\\u0446\\u0430, n = 100\",\"x\":[1,2,3,4,5,6,7,8,9,10,11,12,13,14,15,16,17,18,19,20,21,22,23,24,25,26,27,28,29,30,31,32,33,34,35,36,37,38,39,40,41,42,43,44,45,46,47,48,49,50,51,52,53,54,55,56,57,58,59,60,61,62,63,64,65,66,67,68,69,70,71,72,73,74,75,76,77,78,79,80,81,82,83,84,85,86,87,88,89,90,91,92,93,94,95,96,97,98,99,100],\"y\":[247.00157084151897,248.26308188595917,248.68899854646446,249.10843722243303,247.4799913103565,246.88698003283108,248.28097464910533,247.9784303003866,250.32652668344807,248.31857426432887,249.64178014143275,249.11095220938583,248.4965956384747,247.69096625892072,250.68411232109992,247.0485678315462,249.68971115077008,248.66652024221915,247.5483690040865,248.90640908157917,246.92399176284522,247.83886895285485,248.02664042595129,247.91787580453988,248.91698508795346,248.46297276832541,248.26947431471845,248.58704623830718,247.57929463641727,248.46063161828886,246.98150131697972,246.31099820834038,249.184708410605,248.7774175592872,248.01923765574298,248.94191625414305,248.9766052212604,246.4773102769515,246.16402893589793,248.69471453671412,247.09102681663484,247.39081741457605,246.64158721993385,246.91938779704216,247.4556696922355,248.43209790595523,247.64509517546736,247.3521828636887,247.46610925089192,249.0790220778869,248.3463900945,247.66264318921932,249.26654792720123,245.98948475884444,247.2921505103803,248.19047413894023,248.0068726699291,246.77258577200874,245.43240003720024,248.76705102674669,249.14989774304587,247.4832725409968,248.1342130700545,248.14135889702962,246.1012650636848,248.35096753990888,246.9721568779968,248.68008643926274,246.15355812033715,248.4179322649738,248.7061225466908,247.3082575575192,248.4685401998472,248.84231130403614,247.19043111860077,247.25200883450327,247.33788635628292,249.26315731756222,248.13178071233335,249.821568375252,247.7427398599105,247.73331214388574,247.88768677219085,248.99734933230215,247.649512832228,248.56151599503355,249.2010122153454,248.84412271231557,246.8475676115907,248.7697173714188,248.05792084302843,249.04279630467568,246.3423028230274,248.62626530174214,247.79005288063868,248.21100913084467,248.2630013132369,246.88734689673728,247.87111221791983,248.10513479782344],\"type\":\"scatter\"},{\"line\":{\"color\":\"blue\"},\"name\":\"\\u0412\\u0435\\u0440\\u0445\\u043d\\u044f\\u044f \\u0433\\u0440\\u0430\\u043d\\u0438\\u0446\\u0430, n = 100\",\"x\":[1,2,3,4,5,6,7,8,9,10,11,12,13,14,15,16,17,18,19,20,21,22,23,24,25,26,27,28,29,30,31,32,33,34,35,36,37,38,39,40,41,42,43,44,45,46,47,48,49,50,51,52,53,54,55,56,57,58,59,60,61,62,63,64,65,66,67,68,69,70,71,72,73,74,75,76,77,78,79,80,81,82,83,84,85,86,87,88,89,90,91,92,93,94,95,96,97,98,99,100],\"y\":[250.92149881059908,252.18300985503927,252.60892651554457,253.02836519151313,251.3999192794366,250.80690800191118,252.20090261818544,251.8983582694667,254.24645465252817,252.23850223340898,253.56170811051285,253.03088017846594,252.4165236075548,251.61089422800083,254.60404029018002,250.9684958006263,253.6096391198502,252.58644821129926,251.46829697316662,252.82633705065928,250.84391973192533,251.75879692193496,251.9465683950314,251.83780377361998,252.83691305703357,252.38290073740552,252.18940228379856,252.5069742073873,251.49922260549738,252.38055958736896,250.90142928605982,250.23092617742049,253.1046363796851,252.6973455283673,251.9391656248231,252.86184422322316,252.8965331903405,250.3972382460316,250.08395690497804,252.61464250579422,251.01095478571494,251.31074538365615,250.56151518901396,250.83931576612227,251.3755976613156,252.35202587503534,251.56502314454747,251.27211083276882,251.38603721997202,252.998950046967,252.26631806358012,251.58257115829943,253.18647589628134,249.90941272792455,251.21207847946042,252.11040210802034,251.9268006390092,250.69251374108885,249.35232800628035,252.6869789958268,253.06982571212598,251.4032005100769,252.0541410391346,252.06128686610973,250.0211930327649,252.27089550898899,250.89208484707692,252.60001440834284,250.07348608941726,252.33786023405392,252.6260505157709,251.2281855265993,252.38846816892732,252.76223927311625,251.11035908768088,251.17193680358338,251.25781432536303,253.18308528664232,252.05170868141346,253.74149634433212,251.6626678289906,251.65324011296585,251.80761474127095,252.91727730138226,251.5694408013081,252.48144396411365,253.1209401844255,252.76405068139567,250.7674955806708,252.6896453404989,251.97784881210853,252.96272427375578,250.26223079210752,252.54619327082224,251.7099808497188,252.13093709992478,252.18292928231702,250.8072748658174,251.79104018699994,252.02506276690355],\"type\":\"scatter\"},{\"line\":{\"color\":\"green\"},\"name\":\"\\u041d\\u0438\\u0436\\u043d\\u044f\\u044f \\u0433\\u0440\\u0430\\u043d\\u0438\\u0446\\u0430, n = 1000\",\"x\":[1,2,3,4,5,6,7,8,9,10,11,12,13,14,15,16,17,18,19,20,21,22,23,24,25,26,27,28,29,30,31,32,33,34,35,36,37,38,39,40,41,42,43,44,45,46,47,48,49,50,51,52,53,54,55,56,57,58,59,60,61,62,63,64,65,66,67,68,69,70,71,72,73,74,75,76,77,78,79,80,81,82,83,84,85,86,87,88,89,90,91,92,93,94,95,96,97,98,99,100],\"y\":[249.57352552591874,250.088567340187,249.4385471132557,249.19301278982772,248.88746857366675,248.91282896473254,249.0986398079646,249.5723753844983,249.56362263685764,249.25986320320294,248.98111984054015,249.26826590749903,249.46751997848088,250.01988412563415,249.69188506665458,249.3079479654802,249.67728328957494,249.7012988813009,249.3412591798771,249.69899074840137,248.98773046832883,249.79191038232514,248.78508624975166,249.2652887777002,249.15339460941453,249.50206310678112,249.8362587407431,249.1884209410201,248.625271755354,249.42034775580098,249.6644193506517,249.16981450045358,248.94564144205694,249.75400232118582,248.82082876312654,248.91447678828024,249.49121822776917,248.7457205954951,249.57523080399642,249.96354932224853,249.6637735167309,249.6237378858665,249.43964896942262,249.48382539915505,249.58871711712348,249.6563067044327,248.9229632367189,248.85995744877704,249.4470230312312,249.7692645594053,249.3645377317641,249.30679563408023,249.61877859854005,249.31000110325007,249.9274354694056,248.7485807218346,249.0063895161508,249.59940340036457,249.23604481838154,249.85870184951904,249.6681880506062,249.53800934928995,249.65476965196393,249.5354562034132,249.74315915521686,249.30260894833714,249.59462735190894,249.2883522231439,249.50958052853196,249.10287888420004,249.15320689659868,248.8161576285654,250.12194922378848,249.30042117132504,249.28226095457117,249.2340775449338,249.53281619464036,249.215295836439,249.31782577144202,249.69492852204453,248.87614817467255,249.99565984625974,249.34281322291795,249.47378496779382,249.61743677729504,249.7100857931997,249.5093131840981,249.32254212547156,248.87447605512756,249.5952599684203,249.78698803250077,249.24501348991984,249.67188075160706,249.23522342692397,249.28191475366177,249.50131338059006,249.0665031799263,249.08694426600533,249.25901041297664,249.15201507197284],\"type\":\"scatter\"},{\"line\":{\"color\":\"green\"},\"name\":\"\\u0412\\u0435\\u0440\\u0445\\u043d\\u044f\\u044f \\u0433\\u0440\\u0430\\u043d\\u0438\\u0446\\u0430, n = 1000\",\"x\":[1,2,3,4,5,6,7,8,9,10,11,12,13,14,15,16,17,18,19,20,21,22,23,24,25,26,27,28,29,30,31,32,33,34,35,36,37,38,39,40,41,42,43,44,45,46,47,48,49,50,51,52,53,54,55,56,57,58,59,60,61,62,63,64,65,66,67,68,69,70,71,72,73,74,75,76,77,78,79,80,81,82,83,84,85,86,87,88,89,90,91,92,93,94,95,96,97,98,99,100],\"y\":[250.81311559052784,251.32815740479612,250.6781371778648,250.43260285443682,250.12705863827586,250.15241902934164,250.3382298725737,250.8119654491074,250.80321270146675,250.49945326781204,250.22070990514925,250.50785597210813,250.70711004308998,251.25947419024325,250.93147513126368,250.5475380300893,250.91687335418405,250.94088894591,250.58084924448622,250.93858081301047,250.22732053293794,251.03150044693425,250.02467631436076,250.5048788423093,250.39298467402364,250.74165317139023,251.0758488053522,250.4280110056292,249.8648618199631,250.65993782041008,250.90400941526082,250.4094045650627,250.18523150666604,250.99359238579493,250.06041882773565,250.15406685288934,250.73080829237827,249.9853106601042,250.81482086860552,251.20313938685763,250.90336358134002,250.8633279504756,250.67923903403172,250.72341546376416,250.82830718173258,250.8958967690418,250.16255330132802,250.09954751338614,250.6866130958403,251.0088546240144,250.6041277963732,250.54638569868933,250.85836866314915,250.54959116785918,251.1670255340147,249.9881707864437,250.2459795807599,250.83899346497367,250.47563488299065,251.09829191412814,250.9077781152153,250.77759941389905,250.89435971657304,250.7750462680223,250.98274921982596,250.54219901294624,250.83421741651804,250.527942287753,250.74917059314106,250.34246894880914,250.39279696120778,250.0557476931745,251.36153928839758,250.54001123593414,250.52185101918027,250.4736676095429,250.77240625924946,250.4548859010481,250.55741583605112,250.93451858665364,250.11573823928165,251.23524991086884,250.58240328752706,250.71337503240292,250.85702684190414,250.9496758578088,250.7489032487072,250.56213219008066,250.11406611973666,250.8348500330294,251.02657809710988,250.48460355452895,250.91147081621617,250.47481349153307,250.52150481827087,250.74090344519917,250.3060932445354,250.32653433061444,250.49860047758574,250.39160513658194],\"type\":\"scatter\"}],                        {\"template\":{\"data\":{\"histogram2dcontour\":[{\"type\":\"histogram2dcontour\",\"colorbar\":{\"outlinewidth\":0,\"ticks\":\"\"},\"colorscale\":[[0.0,\"#0d0887\"],[0.1111111111111111,\"#46039f\"],[0.2222222222222222,\"#7201a8\"],[0.3333333333333333,\"#9c179e\"],[0.4444444444444444,\"#bd3786\"],[0.5555555555555556,\"#d8576b\"],[0.6666666666666666,\"#ed7953\"],[0.7777777777777778,\"#fb9f3a\"],[0.8888888888888888,\"#fdca26\"],[1.0,\"#f0f921\"]]}],\"choropleth\":[{\"type\":\"choropleth\",\"colorbar\":{\"outlinewidth\":0,\"ticks\":\"\"}}],\"histogram2d\":[{\"type\":\"histogram2d\",\"colorbar\":{\"outlinewidth\":0,\"ticks\":\"\"},\"colorscale\":[[0.0,\"#0d0887\"],[0.1111111111111111,\"#46039f\"],[0.2222222222222222,\"#7201a8\"],[0.3333333333333333,\"#9c179e\"],[0.4444444444444444,\"#bd3786\"],[0.5555555555555556,\"#d8576b\"],[0.6666666666666666,\"#ed7953\"],[0.7777777777777778,\"#fb9f3a\"],[0.8888888888888888,\"#fdca26\"],[1.0,\"#f0f921\"]]}],\"heatmap\":[{\"type\":\"heatmap\",\"colorbar\":{\"outlinewidth\":0,\"ticks\":\"\"},\"colorscale\":[[0.0,\"#0d0887\"],[0.1111111111111111,\"#46039f\"],[0.2222222222222222,\"#7201a8\"],[0.3333333333333333,\"#9c179e\"],[0.4444444444444444,\"#bd3786\"],[0.5555555555555556,\"#d8576b\"],[0.6666666666666666,\"#ed7953\"],[0.7777777777777778,\"#fb9f3a\"],[0.8888888888888888,\"#fdca26\"],[1.0,\"#f0f921\"]]}],\"heatmapgl\":[{\"type\":\"heatmapgl\",\"colorbar\":{\"outlinewidth\":0,\"ticks\":\"\"},\"colorscale\":[[0.0,\"#0d0887\"],[0.1111111111111111,\"#46039f\"],[0.2222222222222222,\"#7201a8\"],[0.3333333333333333,\"#9c179e\"],[0.4444444444444444,\"#bd3786\"],[0.5555555555555556,\"#d8576b\"],[0.6666666666666666,\"#ed7953\"],[0.7777777777777778,\"#fb9f3a\"],[0.8888888888888888,\"#fdca26\"],[1.0,\"#f0f921\"]]}],\"contourcarpet\":[{\"type\":\"contourcarpet\",\"colorbar\":{\"outlinewidth\":0,\"ticks\":\"\"}}],\"contour\":[{\"type\":\"contour\",\"colorbar\":{\"outlinewidth\":0,\"ticks\":\"\"},\"colorscale\":[[0.0,\"#0d0887\"],[0.1111111111111111,\"#46039f\"],[0.2222222222222222,\"#7201a8\"],[0.3333333333333333,\"#9c179e\"],[0.4444444444444444,\"#bd3786\"],[0.5555555555555556,\"#d8576b\"],[0.6666666666666666,\"#ed7953\"],[0.7777777777777778,\"#fb9f3a\"],[0.8888888888888888,\"#fdca26\"],[1.0,\"#f0f921\"]]}],\"surface\":[{\"type\":\"surface\",\"colorbar\":{\"outlinewidth\":0,\"ticks\":\"\"},\"colorscale\":[[0.0,\"#0d0887\"],[0.1111111111111111,\"#46039f\"],[0.2222222222222222,\"#7201a8\"],[0.3333333333333333,\"#9c179e\"],[0.4444444444444444,\"#bd3786\"],[0.5555555555555556,\"#d8576b\"],[0.6666666666666666,\"#ed7953\"],[0.7777777777777778,\"#fb9f3a\"],[0.8888888888888888,\"#fdca26\"],[1.0,\"#f0f921\"]]}],\"mesh3d\":[{\"type\":\"mesh3d\",\"colorbar\":{\"outlinewidth\":0,\"ticks\":\"\"}}],\"scatter\":[{\"fillpattern\":{\"fillmode\":\"overlay\",\"size\":10,\"solidity\":0.2},\"type\":\"scatter\"}],\"parcoords\":[{\"type\":\"parcoords\",\"line\":{\"colorbar\":{\"outlinewidth\":0,\"ticks\":\"\"}}}],\"scatterpolargl\":[{\"type\":\"scatterpolargl\",\"marker\":{\"colorbar\":{\"outlinewidth\":0,\"ticks\":\"\"}}}],\"bar\":[{\"error_x\":{\"color\":\"#2a3f5f\"},\"error_y\":{\"color\":\"#2a3f5f\"},\"marker\":{\"line\":{\"color\":\"#E5ECF6\",\"width\":0.5},\"pattern\":{\"fillmode\":\"overlay\",\"size\":10,\"solidity\":0.2}},\"type\":\"bar\"}],\"scattergeo\":[{\"type\":\"scattergeo\",\"marker\":{\"colorbar\":{\"outlinewidth\":0,\"ticks\":\"\"}}}],\"scatterpolar\":[{\"type\":\"scatterpolar\",\"marker\":{\"colorbar\":{\"outlinewidth\":0,\"ticks\":\"\"}}}],\"histogram\":[{\"marker\":{\"pattern\":{\"fillmode\":\"overlay\",\"size\":10,\"solidity\":0.2}},\"type\":\"histogram\"}],\"scattergl\":[{\"type\":\"scattergl\",\"marker\":{\"colorbar\":{\"outlinewidth\":0,\"ticks\":\"\"}}}],\"scatter3d\":[{\"type\":\"scatter3d\",\"line\":{\"colorbar\":{\"outlinewidth\":0,\"ticks\":\"\"}},\"marker\":{\"colorbar\":{\"outlinewidth\":0,\"ticks\":\"\"}}}],\"scattermapbox\":[{\"type\":\"scattermapbox\",\"marker\":{\"colorbar\":{\"outlinewidth\":0,\"ticks\":\"\"}}}],\"scatterternary\":[{\"type\":\"scatterternary\",\"marker\":{\"colorbar\":{\"outlinewidth\":0,\"ticks\":\"\"}}}],\"scattercarpet\":[{\"type\":\"scattercarpet\",\"marker\":{\"colorbar\":{\"outlinewidth\":0,\"ticks\":\"\"}}}],\"carpet\":[{\"aaxis\":{\"endlinecolor\":\"#2a3f5f\",\"gridcolor\":\"white\",\"linecolor\":\"white\",\"minorgridcolor\":\"white\",\"startlinecolor\":\"#2a3f5f\"},\"baxis\":{\"endlinecolor\":\"#2a3f5f\",\"gridcolor\":\"white\",\"linecolor\":\"white\",\"minorgridcolor\":\"white\",\"startlinecolor\":\"#2a3f5f\"},\"type\":\"carpet\"}],\"table\":[{\"cells\":{\"fill\":{\"color\":\"#EBF0F8\"},\"line\":{\"color\":\"white\"}},\"header\":{\"fill\":{\"color\":\"#C8D4E3\"},\"line\":{\"color\":\"white\"}},\"type\":\"table\"}],\"barpolar\":[{\"marker\":{\"line\":{\"color\":\"#E5ECF6\",\"width\":0.5},\"pattern\":{\"fillmode\":\"overlay\",\"size\":10,\"solidity\":0.2}},\"type\":\"barpolar\"}],\"pie\":[{\"automargin\":true,\"type\":\"pie\"}]},\"layout\":{\"autotypenumbers\":\"strict\",\"colorway\":[\"#636efa\",\"#EF553B\",\"#00cc96\",\"#ab63fa\",\"#FFA15A\",\"#19d3f3\",\"#FF6692\",\"#B6E880\",\"#FF97FF\",\"#FECB52\"],\"font\":{\"color\":\"#2a3f5f\"},\"hovermode\":\"closest\",\"hoverlabel\":{\"align\":\"left\"},\"paper_bgcolor\":\"white\",\"plot_bgcolor\":\"#E5ECF6\",\"polar\":{\"bgcolor\":\"#E5ECF6\",\"angularaxis\":{\"gridcolor\":\"white\",\"linecolor\":\"white\",\"ticks\":\"\"},\"radialaxis\":{\"gridcolor\":\"white\",\"linecolor\":\"white\",\"ticks\":\"\"}},\"ternary\":{\"bgcolor\":\"#E5ECF6\",\"aaxis\":{\"gridcolor\":\"white\",\"linecolor\":\"white\",\"ticks\":\"\"},\"baxis\":{\"gridcolor\":\"white\",\"linecolor\":\"white\",\"ticks\":\"\"},\"caxis\":{\"gridcolor\":\"white\",\"linecolor\":\"white\",\"ticks\":\"\"}},\"coloraxis\":{\"colorbar\":{\"outlinewidth\":0,\"ticks\":\"\"}},\"colorscale\":{\"sequential\":[[0.0,\"#0d0887\"],[0.1111111111111111,\"#46039f\"],[0.2222222222222222,\"#7201a8\"],[0.3333333333333333,\"#9c179e\"],[0.4444444444444444,\"#bd3786\"],[0.5555555555555556,\"#d8576b\"],[0.6666666666666666,\"#ed7953\"],[0.7777777777777778,\"#fb9f3a\"],[0.8888888888888888,\"#fdca26\"],[1.0,\"#f0f921\"]],\"sequentialminus\":[[0.0,\"#0d0887\"],[0.1111111111111111,\"#46039f\"],[0.2222222222222222,\"#7201a8\"],[0.3333333333333333,\"#9c179e\"],[0.4444444444444444,\"#bd3786\"],[0.5555555555555556,\"#d8576b\"],[0.6666666666666666,\"#ed7953\"],[0.7777777777777778,\"#fb9f3a\"],[0.8888888888888888,\"#fdca26\"],[1.0,\"#f0f921\"]],\"diverging\":[[0,\"#8e0152\"],[0.1,\"#c51b7d\"],[0.2,\"#de77ae\"],[0.3,\"#f1b6da\"],[0.4,\"#fde0ef\"],[0.5,\"#f7f7f7\"],[0.6,\"#e6f5d0\"],[0.7,\"#b8e186\"],[0.8,\"#7fbc41\"],[0.9,\"#4d9221\"],[1,\"#276419\"]]},\"xaxis\":{\"gridcolor\":\"white\",\"linecolor\":\"white\",\"ticks\":\"\",\"title\":{\"standoff\":15},\"zerolinecolor\":\"white\",\"automargin\":true,\"zerolinewidth\":2},\"yaxis\":{\"gridcolor\":\"white\",\"linecolor\":\"white\",\"ticks\":\"\",\"title\":{\"standoff\":15},\"zerolinecolor\":\"white\",\"automargin\":true,\"zerolinewidth\":2},\"scene\":{\"xaxis\":{\"backgroundcolor\":\"#E5ECF6\",\"gridcolor\":\"white\",\"linecolor\":\"white\",\"showbackground\":true,\"ticks\":\"\",\"zerolinecolor\":\"white\",\"gridwidth\":2},\"yaxis\":{\"backgroundcolor\":\"#E5ECF6\",\"gridcolor\":\"white\",\"linecolor\":\"white\",\"showbackground\":true,\"ticks\":\"\",\"zerolinecolor\":\"white\",\"gridwidth\":2},\"zaxis\":{\"backgroundcolor\":\"#E5ECF6\",\"gridcolor\":\"white\",\"linecolor\":\"white\",\"showbackground\":true,\"ticks\":\"\",\"zerolinecolor\":\"white\",\"gridwidth\":2}},\"shapedefaults\":{\"line\":{\"color\":\"#2a3f5f\"}},\"annotationdefaults\":{\"arrowcolor\":\"#2a3f5f\",\"arrowhead\":0,\"arrowwidth\":1},\"geo\":{\"bgcolor\":\"white\",\"landcolor\":\"#E5ECF6\",\"subunitcolor\":\"white\",\"showland\":true,\"showlakes\":true,\"lakecolor\":\"white\"},\"title\":{\"x\":0.05},\"mapbox\":{\"style\":\"light\"}}},\"title\":{\"text\":\"\\u041f\\u0440\\u043e\\u0432\\u0435\\u0440\\u043a\\u0430 \\u0434\\u043e\\u0432\\u0435\\u0440\\u0438\\u0442\\u0435\\u043b\\u044c\\u043d\\u043e\\u0433\\u043e \\u0438\\u043d\\u0442\\u0435\\u0440\\u0432\\u0430\\u043b\\u0430\"},\"xaxis\":{\"title\":{\"text\":\"\\u041d\\u043e\\u043c\\u0435\\u0440 \\u0438\\u0442\\u0435\\u0440\\u0430\\u0446\\u0438\\u0438\"}},\"yaxis\":{\"title\":{\"text\":\"\\u0417\\u043d\\u0430\\u0447\\u0435\\u043d\\u0438\\u0435 \\u043f\\u0430\\u0440\\u0430\\u043c\\u0435\\u0442\\u0440\\u0430\"}}},                        {\"responsive\": true}                    ).then(function(){\n",
              "                            \n",
              "var gd = document.getElementById('34b2f2ac-653c-41e7-b731-4e1b6c98acae');\n",
              "var x = new MutationObserver(function (mutations, observer) {{\n",
              "        var display = window.getComputedStyle(gd).display;\n",
              "        if (!display || display === 'none') {{\n",
              "            console.log([gd, 'removed!']);\n",
              "            Plotly.purge(gd);\n",
              "            observer.disconnect();\n",
              "        }}\n",
              "}});\n",
              "\n",
              "// Listen for the removal of the full notebook cells\n",
              "var notebookContainer = gd.closest('#notebook-container');\n",
              "if (notebookContainer) {{\n",
              "    x.observe(notebookContainer, {childList: true});\n",
              "}}\n",
              "\n",
              "// Listen for the clearing of the current output cell\n",
              "var outputEl = gd.closest('.output');\n",
              "if (outputEl) {{\n",
              "    x.observe(outputEl, {childList: true});\n",
              "}}\n",
              "\n",
              "                        })                };                            </script>        </div>\n",
              "</body>\n",
              "</html>"
            ]
          },
          "metadata": {}
        }
      ]
    },
    {
      "cell_type": "markdown",
      "source": [
        "## Асимптотический доверительный интервал"
      ],
      "metadata": {
        "id": "whg-xEaX9b8Y"
      }
    },
    {
      "cell_type": "markdown",
      "source": [
        "\n",
        "$$\n",
        "m \\in I = \\left(\\overline{X} + z_{\\alpha/2} \\frac{S_X}{\\sqrt{n}},\n",
        "\\overline{X} + z_{1-\\alpha/2} \\frac{S_X}{\\sqrt{n}}\\right).\n",
        "$$"
      ],
      "metadata": {
        "id": "jillKJtS9JeY"
      }
    },
    {
      "cell_type": "code",
      "source": [
        "def clt_solution(p: float, x: np.array) -> float:\n",
        "    alpha = 1 - p\n",
        "    return x.mean() - np.sqrt(np.var(x)) * norm.ppf(1 - alpha / 2) / np.sqrt(len(x)), \\\n",
        "           x.mean() - np.sqrt(np.var(x)) * norm.ppf(alpha / 2) / np.sqrt(len(x))"
      ],
      "metadata": {
        "id": "hRVpK2889R8U"
      },
      "execution_count": null,
      "outputs": []
    },
    {
      "cell_type": "code",
      "source": [
        "solution = clt_solution\n",
        "\n",
        "mu = 250\n",
        "sigma = 10\n",
        "p = 0.95\n",
        "\n",
        "iter_size = 100\n",
        "sample_size_list = [\n",
        "    10,\n",
        "    100,\n",
        "    1000\n",
        "]\n",
        "color_map = {\n",
        "    10: \"red\",\n",
        "    100: \"blue\",\n",
        "    1000: \"green\"\n",
        "}\n",
        "\n",
        "fig = go.Figure()\n",
        "fig.add_trace(go.Scatter(x=[1, iter_size],\n",
        "                         y=[mu, mu],\n",
        "                         name=\"Заданное значение\",\n",
        "                         line={\"color\": \"black\"}))\n",
        "\n",
        "for sample_size in sample_size_list:\n",
        "\n",
        "    x = norm(loc=mu, scale=sigma).rvs(size=[iter_size, sample_size], random_state=42)\n",
        "    left_side_list = []\n",
        "    right_side_list = []\n",
        "\n",
        "    for i in range(iter_size):\n",
        "        left_side, right_side = solution(p, x[i])\n",
        "        left_side_list.append(left_side)\n",
        "        right_side_list.append(right_side)\n",
        "\n",
        "    fig.add_trace(go.Scatter(x=1 + np.arange(iter_size),\n",
        "                             y=left_side_list,\n",
        "                             name=f\"Нижняя граница, n = {sample_size}\",\n",
        "                             line={\"color\": color_map[sample_size]}))\n",
        "\n",
        "    fig.add_trace(go.Scatter(x=1 + np.arange(iter_size),\n",
        "                             y=right_side_list,\n",
        "                             name=f\"Верхняя граница, n = {sample_size}\",\n",
        "                             line={\"color\": color_map[sample_size]}))\n",
        "\n",
        "fig.update_layout(title=\"Проверка доверительного интервала\",\n",
        "                  xaxis_title=\"Номер итерации\",\n",
        "                  yaxis_title=\"Значение параметра\")\n",
        "fig.show()"
      ],
      "metadata": {
        "id": "UDknEuBoHHlC",
        "colab": {
          "base_uri": "https://localhost:8080/",
          "height": 542
        },
        "outputId": "77576142-cfc0-411d-e8ed-5ff3ede1a21e"
      },
      "execution_count": null,
      "outputs": [
        {
          "output_type": "display_data",
          "data": {
            "text/html": [
              "<html>\n",
              "<head><meta charset=\"utf-8\" /></head>\n",
              "<body>\n",
              "    <div>            <script src=\"https://cdnjs.cloudflare.com/ajax/libs/mathjax/2.7.5/MathJax.js?config=TeX-AMS-MML_SVG\"></script><script type=\"text/javascript\">if (window.MathJax && window.MathJax.Hub && window.MathJax.Hub.Config) {window.MathJax.Hub.Config({SVG: {font: \"STIX-Web\"}});}</script>                <script type=\"text/javascript\">window.PlotlyConfig = {MathJaxConfig: 'local'};</script>\n",
              "        <script charset=\"utf-8\" src=\"https://cdn.plot.ly/plotly-2.24.1.min.js\"></script>                <div id=\"8e77ef84-02c7-478b-9346-5bdd77c147fa\" class=\"plotly-graph-div\" style=\"height:525px; width:100%;\"></div>            <script type=\"text/javascript\">                                    window.PLOTLYENV=window.PLOTLYENV || {};                                    if (document.getElementById(\"8e77ef84-02c7-478b-9346-5bdd77c147fa\")) {                    Plotly.newPlot(                        \"8e77ef84-02c7-478b-9346-5bdd77c147fa\",                        [{\"line\":{\"color\":\"black\"},\"name\":\"\\u0417\\u0430\\u0434\\u0430\\u043d\\u043d\\u043e\\u0435 \\u0437\\u043d\\u0430\\u0447\\u0435\\u043d\\u0438\\u0435\",\"x\":[1,100],\"y\":[250,250],\"type\":\"scatter\"},{\"line\":{\"color\":\"red\"},\"name\":\"\\u041d\\u0438\\u0436\\u043d\\u044f\\u044f \\u0433\\u0440\\u0430\\u043d\\u0438\\u0446\\u0430, n = 10\",\"x\":[1,2,3,4,5,6,7,8,9,10,11,12,13,14,15,16,17,18,19,20,21,22,23,24,25,26,27,28,29,30,31,32,33,34,35,36,37,38,39,40,41,42,43,44,45,46,47,48,49,50,51,52,53,54,55,56,57,58,59,60,61,62,63,64,65,66,67,68,69,70,71,72,73,74,75,76,77,78,79,80,81,82,83,84,85,86,87,88,89,90,91,92,93,94,95,96,97,98,99,100],\"y\":[250.22940023473984,237.652189742328,242.9959332118759,240.1650774205333,242.17630886235875,247.84619043929297,244.67293310155068,241.55708130698403,246.66653647919193,244.67142133612484,244.40738371889833,244.33107404251646,243.8971188532858,241.14872085684684,243.648122728724,246.49129422066486,247.5212252773695,247.19227247978932,242.99655022665416,243.9776365271076,247.9665538474341,248.43612558430416,241.4021254778157,243.41966517985168,244.736766672238,245.5792340813231,235.74070780973767,244.67563642910972,244.19841416805414,248.1676322799489,247.10377882378734,250.99540282622434,246.81879248241597,244.5559885299717,241.41477242124523,246.3256234302056,248.4739555783343,250.5028945784033,241.42901833691224,244.29242863055464,243.39821612558165,245.65849495612434,248.47090786656727,239.6662495788999,240.27225043687295,242.0696724527228,246.72076470377695,244.55187445425764,240.0101947651222,243.29175164150666,242.7311313310264,245.8938502029414,238.58254619143517,241.51267336926833,241.8332921627907,247.2390932358584,240.73982301730913,244.14440744178478,246.4044438015154,246.07603321754632,244.49869139254622,248.64630806183297,247.96031661185106,238.51734316203706,239.94039468311314,247.82247447432965,240.79589551136527,241.4276451328286,245.1206149015766,245.6255857896813,239.2419524233603,248.23199218478254,242.39472318618587,247.44411434301873,239.13555958319662,242.65217456774934,248.40743518311464,245.57964607621287,245.71256695378864,246.06973215562212,245.3641421297934,247.75118240213396,247.61700037503226,241.91251591062894,246.41006857100336,244.9530011852691,247.73438881354753,243.99746665323127,251.1183389773629,251.86064358036478,248.1416201574902,249.17602907944115,244.47666150770098,240.12776361155102,242.66059672847737,248.79726929686117,247.98645366962197,237.26301066147113,246.4171731194788,242.2405003827809],\"type\":\"scatter\"},{\"line\":{\"color\":\"red\"},\"name\":\"\\u0412\\u0435\\u0440\\u0445\\u043d\\u044f\\u044f \\u0433\\u0440\\u0430\\u043d\\u0438\\u0446\\u0430, n = 10\",\"x\":[1,2,3,4,5,6,7,8,9,10,11,12,13,14,15,16,17,18,19,20,21,22,23,24,25,26,27,28,29,30,31,32,33,34,35,36,37,38,39,40,41,42,43,44,45,46,47,48,49,50,51,52,53,54,55,56,57,58,59,60,61,62,63,64,65,66,67,68,69,70,71,72,73,74,75,76,77,78,79,80,81,82,83,84,85,86,87,88,89,90,91,92,93,94,95,96,97,98,99,100],\"y\":[258.7318219992352,246.53464556602376,252.56719549473505,253.6327892570937,252.76724768546237,256.14263811786225,255.02592706869612,257.48819623035763,255.362412161553,252.3447508051818,254.60386724826836,258.4264052556987,257.50136537919485,252.92535219080608,255.18183305881826,256.57420304770596,258.97117894790995,259.97702332333967,252.42224014626464,252.26604988012136,264.3065084908381,256.24870623930656,256.7754459327551,256.60010514003994,255.2049314434853,259.5921470718901,250.54029993858006,255.20983173252927,258.6008245751218,255.57758852572616,255.08804486515484,257.8290247644917,259.0779124823312,251.4830673046096,248.8513522878833,254.97588686003212,255.91666785765915,263.008955590256,254.35886744073537,258.865589048253,251.51366512235785,257.99751542012814,262.6761242869583,254.91711144619194,250.55504882345022,250.31803427020841,256.17183621670546,262.9619352553279,252.34103590050097,255.2364221746692,254.5156981001772,253.35896634567263,249.39692770675313,251.04726861431243,255.26671929356127,253.4251955694626,256.12997523226215,258.040793274252,257.4391897594716,253.16085248002136,259.5996645021138,259.09026873932004,260.0895515580096,251.2760259448411,253.59185774254536,260.729952157886,253.97698102910593,256.8166872747795,254.05622966449616,255.236284338648,255.86155514889506,253.5243280885295,251.66036757910027,259.24280560985744,247.8363232448975,257.35970541567525,262.34813916380386,255.16718481907603,256.35880704781397,254.53877292385303,253.46975824704234,257.98413669925594,260.76448202817335,253.0614222135739,257.82928907684203,254.9320757531571,260.9038962304732,255.11070170803495,262.8884178399984,260.06688496484367,259.2887860980249,255.75216504213734,256.46311615180247,253.8401236376788,255.13950460286512,257.5130178581735,259.7763399634608,249.9363380380138,256.02539738129946,254.5488979890468],\"type\":\"scatter\"},{\"line\":{\"color\":\"blue\"},\"name\":\"\\u041d\\u0438\\u0436\\u043d\\u044f\\u044f \\u0433\\u0440\\u0430\\u043d\\u0438\\u0446\\u0430, n = 100\",\"x\":[1,2,3,4,5,6,7,8,9,10,11,12,13,14,15,16,17,18,19,20,21,22,23,24,25,26,27,28,29,30,31,32,33,34,35,36,37,38,39,40,41,42,43,44,45,46,47,48,49,50,51,52,53,54,55,56,57,58,59,60,61,62,63,64,65,66,67,68,69,70,71,72,73,74,75,76,77,78,79,80,81,82,83,84,85,86,87,88,89,90,91,92,93,94,95,96,97,98,99,100],\"y\":[247.19047966398776,248.36325830975917,248.5344596075649,249.34428007587348,247.36553273235117,247.04591689963914,248.15970373064178,248.03749777962668,250.45907637504786,248.38943111396247,249.74864917926118,248.9085678338528,248.50491588313636,247.74998633124235,250.68609567760356,246.98346410296696,249.79374851869187,248.76872945571236,247.71549474195098,248.8224438732404,246.99698162563675,247.88195914439495,248.05731266194113,248.01414304897065,249.10424220487974,248.2950120861046,248.47342199458942,248.72843528602004,247.3227199294167,248.52370660853663,246.94888086379186,246.33064106985086,249.0819374177513,248.64089752523745,247.96401062475192,248.69376184081923,249.25752757338697,246.40677556125064,246.35233440344223,248.51977561878718,247.1478611630712,247.38732126464598,246.55630762241745,247.03689484816695,247.47237759997176,248.6785668501904,247.60171753104984,247.32073206988895,247.4559558361408,249.04203002000583,248.33604677870713,247.82118916873478,249.24336651611637,246.08088958715956,247.45117188844972,248.18656389330343,247.95460495589387,246.84651032833645,245.22299569419664,248.61250815636473,249.1550050271433,247.579037315256,248.2248401588575,248.02671213919578,246.1693076846559,248.30624293708487,247.05509326962257,248.4566357413933,245.94421514748367,248.31627910867056,248.5362265522394,247.30764184913284,248.32582864459047,248.78076190387708,247.11205303090594,247.14867132174732,247.15056565513817,249.28797911732488,248.13273920645238,249.81991677414433,247.67790366793838,247.6281791772131,247.4902106892668,249.01367755847863,247.667721794913,248.5703959889903,249.08682960864303,248.9018307120652,247.09441289646563,249.01274966460534,248.10350901419486,249.18574796221742,246.27650012201815,248.85631166445225,247.91674265115282,248.14303441457437,248.23675811975426,247.07968121599367,248.06617714950602,248.1129964732494],\"type\":\"scatter\"},{\"line\":{\"color\":\"blue\"},\"name\":\"\\u0412\\u0435\\u0440\\u0445\\u043d\\u044f\\u044f \\u0433\\u0440\\u0430\\u043d\\u0438\\u0446\\u0430, n = 100\",\"x\":[1,2,3,4,5,6,7,8,9,10,11,12,13,14,15,16,17,18,19,20,21,22,23,24,25,26,27,28,29,30,31,32,33,34,35,36,37,38,39,40,41,42,43,44,45,46,47,48,49,50,51,52,53,54,55,56,57,58,59,60,61,62,63,64,65,66,67,68,69,70,71,72,73,74,75,76,77,78,79,80,81,82,83,84,85,86,87,88,89,90,91,92,93,94,95,96,97,98,99,100],\"y\":[250.7325899881303,252.08283343123927,252.76346545444412,252.79252233807267,251.51437785744193,250.64797113510312,252.322173536649,251.83929079022664,254.11390496092838,252.16764538377538,253.45483907268442,253.23326455399896,252.40820336289315,251.5518741556792,254.60205693367638,251.03359952920553,253.5056017519284,252.48423899780605,251.30117123530215,252.91030225899806,250.7709298691338,251.71570673039486,251.91589615904155,251.7415365291892,252.6496559401073,252.55086141962633,251.9854546039276,252.36558515967442,251.75579731249795,252.3174845971212,250.93404973924768,250.21128331591,253.2074073725388,252.83386556241703,251.99439265581415,253.10999863654698,252.61561083821394,250.46777296173246,249.89565143743374,252.78958142372116,250.95412043927857,251.31424153358623,250.64679478653036,250.72180871499748,251.35888975357932,252.10555693080016,251.60840078896499,251.30356162656858,251.39619063472315,253.03594210484806,252.276661379373,251.42402517878398,253.2096573073662,249.81800789960943,251.053057101391,252.11431235365714,251.97906835304443,250.61858918476113,249.56173234928394,252.84152186620875,253.06471842802856,251.30743573581773,251.96351395033162,252.17593362394356,249.95315041179379,252.315620111813,250.80914845545115,252.82346510621227,250.28282906227074,252.43951339035718,252.7959465102223,251.22880123498567,252.53117972418406,252.82378867327532,251.1887371753757,251.27527431633933,251.44513502650778,253.15826348687966,252.05075018729443,253.7431479454398,251.72750402096273,251.7583730796385,252.205090824195,252.90094907520577,251.5512318386231,252.4725639701569,253.23512279112788,252.70634268164605,250.5206502957959,252.44661304731238,251.9322606409421,252.81977261621404,250.32803349311678,252.31614690811213,251.58329107920466,252.19891181619508,252.20917247579968,250.614940546561,251.59597525541375,252.01720109147757],\"type\":\"scatter\"},{\"line\":{\"color\":\"green\"},\"name\":\"\\u041d\\u0438\\u0436\\u043d\\u044f\\u044f \\u0433\\u0440\\u0430\\u043d\\u0438\\u0446\\u0430, n = 1000\",\"x\":[1,2,3,4,5,6,7,8,9,10,11,12,13,14,15,16,17,18,19,20,21,22,23,24,25,26,27,28,29,30,31,32,33,34,35,36,37,38,39,40,41,42,43,44,45,46,47,48,49,50,51,52,53,54,55,56,57,58,59,60,61,62,63,64,65,66,67,68,69,70,71,72,73,74,75,76,77,78,79,80,81,82,83,84,85,86,87,88,89,90,91,92,93,94,95,96,97,98,99,100],\"y\":[249.5867109166752,250.09045429048535,249.44910691390413,249.1765145707845,248.89249889269567,248.90856141197878,249.08345987232585,249.54682804093753,249.5566936580916,249.28177879132858,248.9997643436983,249.25944503581565,249.48441621385408,250.00435456218835,249.68754957067975,249.29406678691606,249.68211172299627,249.69864185675996,249.34645483499156,249.69617359960978,248.9800581315554,249.80375042657238,248.78091429525,249.28688440212144,249.18640476030586,249.51366087970814,249.83844771535476,249.17925762771225,248.6322008784591,249.41354088871444,249.6550829139213,249.17399773335694,248.91504223101677,249.73173936888261,248.80151985505069,248.9175143239938,249.50300408942445,248.78178858776133,249.58083234101514,249.9648845130624,249.67482280165953,249.6115864695696,249.42254484340395,249.47980053732886,249.63474078038016,249.65882278944144,248.91933308785892,248.8548588522862,249.43083986273732,249.77082751185594,249.37552466438865,249.31225271208183,249.61665528056494,249.2921919665404,249.9168354738784,248.73883082702213,248.98637828009115,249.60202460510368,249.23481531183157,249.84558141324797,249.66577692521304,249.53710857195088,249.64503988749462,249.53141092615087,249.74350595008258,249.3091050694054,249.60313879989994,249.31816229645173,249.53692233229776,249.09664688221812,249.15655677683637,248.82531274886026,250.10846317016728,249.31470904031144,249.2720689171045,249.24086342173146,249.5094772167197,249.20506079565646,249.30760954745068,249.6902785977474,248.8792652521955,249.9831125926386,249.35180566385043,249.45833390577056,249.5971148205982,249.73308476141435,249.51032377435712,249.32828920886737,248.87620890319673,249.5957235359361,249.8016753892945,249.24944816385502,249.66938050270753,249.23335147487148,249.29413682720363,249.48778211894677,249.05624904870433,249.08793272010985,249.27238851286666,249.15223520861045],\"type\":\"scatter\"},{\"line\":{\"color\":\"green\"},\"name\":\"\\u0412\\u0435\\u0440\\u0445\\u043d\\u044f\\u044f \\u0433\\u0440\\u0430\\u043d\\u0438\\u0446\\u0430, n = 1000\",\"x\":[1,2,3,4,5,6,7,8,9,10,11,12,13,14,15,16,17,18,19,20,21,22,23,24,25,26,27,28,29,30,31,32,33,34,35,36,37,38,39,40,41,42,43,44,45,46,47,48,49,50,51,52,53,54,55,56,57,58,59,60,61,62,63,64,65,66,67,68,69,70,71,72,73,74,75,76,77,78,79,80,81,82,83,84,85,86,87,88,89,90,91,92,93,94,95,96,97,98,99,100],\"y\":[250.79993019977138,251.32627045449777,250.6675773772164,250.44910107348005,250.12202831924694,250.1566865820954,250.35340980821243,250.83751279266815,250.8101416802328,250.4775376796864,250.2020654019911,250.51667684379152,250.6902138077168,251.27500375368905,250.9358106272385,250.56141920865343,250.91204492076272,250.9435459704509,250.57565358937177,250.94139796180207,250.23499286971136,251.019660402687,250.02884826886242,250.48328321788804,250.3599745231323,250.7300553984632,251.07365983074052,250.43717431893705,249.857932696858,250.66674468749662,250.91334585199124,250.40522133215933,250.2158307177062,251.01585533809813,250.0797277358115,250.15102931717578,250.719022430723,249.94924266783798,250.8092193315868,251.20180419604375,250.8923142964114,250.87547936677248,250.6963431600504,250.72744032559035,250.7822835184759,250.89338068403305,250.16618345018802,250.10464610987697,250.70279626433418,251.00729167156373,250.59314086374866,250.54092862068774,250.86049198112426,250.56740030456885,251.1776255295419,249.99792068125618,250.26599081681954,250.83637226023455,250.47686438954062,251.1114123503992,250.91018924060847,250.77850019123812,250.90408948104235,250.77909154528461,250.98240242496024,250.53570289187797,250.82570596852705,250.49813221444518,250.72182878937525,250.34870095079106,250.3894470809701,250.04659257287966,251.37502534201877,250.52572336694774,250.53204305664696,250.46688173274524,250.79574523717014,250.46512094183063,250.56763206004246,250.93916851095076,250.1126211617587,251.24779716448998,250.57341084659458,250.72882609442618,250.877348798601,250.92667688959418,250.74789265844817,250.55638510668484,250.1123332716675,250.8343864655136,251.01189074031615,250.48016888059377,250.9139710651157,250.47668544358555,250.509282744729,250.75443470684246,250.31634737575735,250.32554587650992,250.48522237769572,250.39138499994434],\"type\":\"scatter\"}],                        {\"template\":{\"data\":{\"histogram2dcontour\":[{\"type\":\"histogram2dcontour\",\"colorbar\":{\"outlinewidth\":0,\"ticks\":\"\"},\"colorscale\":[[0.0,\"#0d0887\"],[0.1111111111111111,\"#46039f\"],[0.2222222222222222,\"#7201a8\"],[0.3333333333333333,\"#9c179e\"],[0.4444444444444444,\"#bd3786\"],[0.5555555555555556,\"#d8576b\"],[0.6666666666666666,\"#ed7953\"],[0.7777777777777778,\"#fb9f3a\"],[0.8888888888888888,\"#fdca26\"],[1.0,\"#f0f921\"]]}],\"choropleth\":[{\"type\":\"choropleth\",\"colorbar\":{\"outlinewidth\":0,\"ticks\":\"\"}}],\"histogram2d\":[{\"type\":\"histogram2d\",\"colorbar\":{\"outlinewidth\":0,\"ticks\":\"\"},\"colorscale\":[[0.0,\"#0d0887\"],[0.1111111111111111,\"#46039f\"],[0.2222222222222222,\"#7201a8\"],[0.3333333333333333,\"#9c179e\"],[0.4444444444444444,\"#bd3786\"],[0.5555555555555556,\"#d8576b\"],[0.6666666666666666,\"#ed7953\"],[0.7777777777777778,\"#fb9f3a\"],[0.8888888888888888,\"#fdca26\"],[1.0,\"#f0f921\"]]}],\"heatmap\":[{\"type\":\"heatmap\",\"colorbar\":{\"outlinewidth\":0,\"ticks\":\"\"},\"colorscale\":[[0.0,\"#0d0887\"],[0.1111111111111111,\"#46039f\"],[0.2222222222222222,\"#7201a8\"],[0.3333333333333333,\"#9c179e\"],[0.4444444444444444,\"#bd3786\"],[0.5555555555555556,\"#d8576b\"],[0.6666666666666666,\"#ed7953\"],[0.7777777777777778,\"#fb9f3a\"],[0.8888888888888888,\"#fdca26\"],[1.0,\"#f0f921\"]]}],\"heatmapgl\":[{\"type\":\"heatmapgl\",\"colorbar\":{\"outlinewidth\":0,\"ticks\":\"\"},\"colorscale\":[[0.0,\"#0d0887\"],[0.1111111111111111,\"#46039f\"],[0.2222222222222222,\"#7201a8\"],[0.3333333333333333,\"#9c179e\"],[0.4444444444444444,\"#bd3786\"],[0.5555555555555556,\"#d8576b\"],[0.6666666666666666,\"#ed7953\"],[0.7777777777777778,\"#fb9f3a\"],[0.8888888888888888,\"#fdca26\"],[1.0,\"#f0f921\"]]}],\"contourcarpet\":[{\"type\":\"contourcarpet\",\"colorbar\":{\"outlinewidth\":0,\"ticks\":\"\"}}],\"contour\":[{\"type\":\"contour\",\"colorbar\":{\"outlinewidth\":0,\"ticks\":\"\"},\"colorscale\":[[0.0,\"#0d0887\"],[0.1111111111111111,\"#46039f\"],[0.2222222222222222,\"#7201a8\"],[0.3333333333333333,\"#9c179e\"],[0.4444444444444444,\"#bd3786\"],[0.5555555555555556,\"#d8576b\"],[0.6666666666666666,\"#ed7953\"],[0.7777777777777778,\"#fb9f3a\"],[0.8888888888888888,\"#fdca26\"],[1.0,\"#f0f921\"]]}],\"surface\":[{\"type\":\"surface\",\"colorbar\":{\"outlinewidth\":0,\"ticks\":\"\"},\"colorscale\":[[0.0,\"#0d0887\"],[0.1111111111111111,\"#46039f\"],[0.2222222222222222,\"#7201a8\"],[0.3333333333333333,\"#9c179e\"],[0.4444444444444444,\"#bd3786\"],[0.5555555555555556,\"#d8576b\"],[0.6666666666666666,\"#ed7953\"],[0.7777777777777778,\"#fb9f3a\"],[0.8888888888888888,\"#fdca26\"],[1.0,\"#f0f921\"]]}],\"mesh3d\":[{\"type\":\"mesh3d\",\"colorbar\":{\"outlinewidth\":0,\"ticks\":\"\"}}],\"scatter\":[{\"fillpattern\":{\"fillmode\":\"overlay\",\"size\":10,\"solidity\":0.2},\"type\":\"scatter\"}],\"parcoords\":[{\"type\":\"parcoords\",\"line\":{\"colorbar\":{\"outlinewidth\":0,\"ticks\":\"\"}}}],\"scatterpolargl\":[{\"type\":\"scatterpolargl\",\"marker\":{\"colorbar\":{\"outlinewidth\":0,\"ticks\":\"\"}}}],\"bar\":[{\"error_x\":{\"color\":\"#2a3f5f\"},\"error_y\":{\"color\":\"#2a3f5f\"},\"marker\":{\"line\":{\"color\":\"#E5ECF6\",\"width\":0.5},\"pattern\":{\"fillmode\":\"overlay\",\"size\":10,\"solidity\":0.2}},\"type\":\"bar\"}],\"scattergeo\":[{\"type\":\"scattergeo\",\"marker\":{\"colorbar\":{\"outlinewidth\":0,\"ticks\":\"\"}}}],\"scatterpolar\":[{\"type\":\"scatterpolar\",\"marker\":{\"colorbar\":{\"outlinewidth\":0,\"ticks\":\"\"}}}],\"histogram\":[{\"marker\":{\"pattern\":{\"fillmode\":\"overlay\",\"size\":10,\"solidity\":0.2}},\"type\":\"histogram\"}],\"scattergl\":[{\"type\":\"scattergl\",\"marker\":{\"colorbar\":{\"outlinewidth\":0,\"ticks\":\"\"}}}],\"scatter3d\":[{\"type\":\"scatter3d\",\"line\":{\"colorbar\":{\"outlinewidth\":0,\"ticks\":\"\"}},\"marker\":{\"colorbar\":{\"outlinewidth\":0,\"ticks\":\"\"}}}],\"scattermapbox\":[{\"type\":\"scattermapbox\",\"marker\":{\"colorbar\":{\"outlinewidth\":0,\"ticks\":\"\"}}}],\"scatterternary\":[{\"type\":\"scatterternary\",\"marker\":{\"colorbar\":{\"outlinewidth\":0,\"ticks\":\"\"}}}],\"scattercarpet\":[{\"type\":\"scattercarpet\",\"marker\":{\"colorbar\":{\"outlinewidth\":0,\"ticks\":\"\"}}}],\"carpet\":[{\"aaxis\":{\"endlinecolor\":\"#2a3f5f\",\"gridcolor\":\"white\",\"linecolor\":\"white\",\"minorgridcolor\":\"white\",\"startlinecolor\":\"#2a3f5f\"},\"baxis\":{\"endlinecolor\":\"#2a3f5f\",\"gridcolor\":\"white\",\"linecolor\":\"white\",\"minorgridcolor\":\"white\",\"startlinecolor\":\"#2a3f5f\"},\"type\":\"carpet\"}],\"table\":[{\"cells\":{\"fill\":{\"color\":\"#EBF0F8\"},\"line\":{\"color\":\"white\"}},\"header\":{\"fill\":{\"color\":\"#C8D4E3\"},\"line\":{\"color\":\"white\"}},\"type\":\"table\"}],\"barpolar\":[{\"marker\":{\"line\":{\"color\":\"#E5ECF6\",\"width\":0.5},\"pattern\":{\"fillmode\":\"overlay\",\"size\":10,\"solidity\":0.2}},\"type\":\"barpolar\"}],\"pie\":[{\"automargin\":true,\"type\":\"pie\"}]},\"layout\":{\"autotypenumbers\":\"strict\",\"colorway\":[\"#636efa\",\"#EF553B\",\"#00cc96\",\"#ab63fa\",\"#FFA15A\",\"#19d3f3\",\"#FF6692\",\"#B6E880\",\"#FF97FF\",\"#FECB52\"],\"font\":{\"color\":\"#2a3f5f\"},\"hovermode\":\"closest\",\"hoverlabel\":{\"align\":\"left\"},\"paper_bgcolor\":\"white\",\"plot_bgcolor\":\"#E5ECF6\",\"polar\":{\"bgcolor\":\"#E5ECF6\",\"angularaxis\":{\"gridcolor\":\"white\",\"linecolor\":\"white\",\"ticks\":\"\"},\"radialaxis\":{\"gridcolor\":\"white\",\"linecolor\":\"white\",\"ticks\":\"\"}},\"ternary\":{\"bgcolor\":\"#E5ECF6\",\"aaxis\":{\"gridcolor\":\"white\",\"linecolor\":\"white\",\"ticks\":\"\"},\"baxis\":{\"gridcolor\":\"white\",\"linecolor\":\"white\",\"ticks\":\"\"},\"caxis\":{\"gridcolor\":\"white\",\"linecolor\":\"white\",\"ticks\":\"\"}},\"coloraxis\":{\"colorbar\":{\"outlinewidth\":0,\"ticks\":\"\"}},\"colorscale\":{\"sequential\":[[0.0,\"#0d0887\"],[0.1111111111111111,\"#46039f\"],[0.2222222222222222,\"#7201a8\"],[0.3333333333333333,\"#9c179e\"],[0.4444444444444444,\"#bd3786\"],[0.5555555555555556,\"#d8576b\"],[0.6666666666666666,\"#ed7953\"],[0.7777777777777778,\"#fb9f3a\"],[0.8888888888888888,\"#fdca26\"],[1.0,\"#f0f921\"]],\"sequentialminus\":[[0.0,\"#0d0887\"],[0.1111111111111111,\"#46039f\"],[0.2222222222222222,\"#7201a8\"],[0.3333333333333333,\"#9c179e\"],[0.4444444444444444,\"#bd3786\"],[0.5555555555555556,\"#d8576b\"],[0.6666666666666666,\"#ed7953\"],[0.7777777777777778,\"#fb9f3a\"],[0.8888888888888888,\"#fdca26\"],[1.0,\"#f0f921\"]],\"diverging\":[[0,\"#8e0152\"],[0.1,\"#c51b7d\"],[0.2,\"#de77ae\"],[0.3,\"#f1b6da\"],[0.4,\"#fde0ef\"],[0.5,\"#f7f7f7\"],[0.6,\"#e6f5d0\"],[0.7,\"#b8e186\"],[0.8,\"#7fbc41\"],[0.9,\"#4d9221\"],[1,\"#276419\"]]},\"xaxis\":{\"gridcolor\":\"white\",\"linecolor\":\"white\",\"ticks\":\"\",\"title\":{\"standoff\":15},\"zerolinecolor\":\"white\",\"automargin\":true,\"zerolinewidth\":2},\"yaxis\":{\"gridcolor\":\"white\",\"linecolor\":\"white\",\"ticks\":\"\",\"title\":{\"standoff\":15},\"zerolinecolor\":\"white\",\"automargin\":true,\"zerolinewidth\":2},\"scene\":{\"xaxis\":{\"backgroundcolor\":\"#E5ECF6\",\"gridcolor\":\"white\",\"linecolor\":\"white\",\"showbackground\":true,\"ticks\":\"\",\"zerolinecolor\":\"white\",\"gridwidth\":2},\"yaxis\":{\"backgroundcolor\":\"#E5ECF6\",\"gridcolor\":\"white\",\"linecolor\":\"white\",\"showbackground\":true,\"ticks\":\"\",\"zerolinecolor\":\"white\",\"gridwidth\":2},\"zaxis\":{\"backgroundcolor\":\"#E5ECF6\",\"gridcolor\":\"white\",\"linecolor\":\"white\",\"showbackground\":true,\"ticks\":\"\",\"zerolinecolor\":\"white\",\"gridwidth\":2}},\"shapedefaults\":{\"line\":{\"color\":\"#2a3f5f\"}},\"annotationdefaults\":{\"arrowcolor\":\"#2a3f5f\",\"arrowhead\":0,\"arrowwidth\":1},\"geo\":{\"bgcolor\":\"white\",\"landcolor\":\"#E5ECF6\",\"subunitcolor\":\"white\",\"showland\":true,\"showlakes\":true,\"lakecolor\":\"white\"},\"title\":{\"x\":0.05},\"mapbox\":{\"style\":\"light\"}}},\"title\":{\"text\":\"\\u041f\\u0440\\u043e\\u0432\\u0435\\u0440\\u043a\\u0430 \\u0434\\u043e\\u0432\\u0435\\u0440\\u0438\\u0442\\u0435\\u043b\\u044c\\u043d\\u043e\\u0433\\u043e \\u0438\\u043d\\u0442\\u0435\\u0440\\u0432\\u0430\\u043b\\u0430\"},\"xaxis\":{\"title\":{\"text\":\"\\u041d\\u043e\\u043c\\u0435\\u0440 \\u0438\\u0442\\u0435\\u0440\\u0430\\u0446\\u0438\\u0438\"}},\"yaxis\":{\"title\":{\"text\":\"\\u0417\\u043d\\u0430\\u0447\\u0435\\u043d\\u0438\\u0435 \\u043f\\u0430\\u0440\\u0430\\u043c\\u0435\\u0442\\u0440\\u0430\"}}},                        {\"responsive\": true}                    ).then(function(){\n",
              "                            \n",
              "var gd = document.getElementById('8e77ef84-02c7-478b-9346-5bdd77c147fa');\n",
              "var x = new MutationObserver(function (mutations, observer) {{\n",
              "        var display = window.getComputedStyle(gd).display;\n",
              "        if (!display || display === 'none') {{\n",
              "            console.log([gd, 'removed!']);\n",
              "            Plotly.purge(gd);\n",
              "            observer.disconnect();\n",
              "        }}\n",
              "}});\n",
              "\n",
              "// Listen for the removal of the full notebook cells\n",
              "var notebookContainer = gd.closest('#notebook-container');\n",
              "if (notebookContainer) {{\n",
              "    x.observe(notebookContainer, {childList: true});\n",
              "}}\n",
              "\n",
              "// Listen for the clearing of the current output cell\n",
              "var outputEl = gd.closest('.output');\n",
              "if (outputEl) {{\n",
              "    x.observe(outputEl, {childList: true});\n",
              "}}\n",
              "\n",
              "                        })                };                            </script>        </div>\n",
              "</body>\n",
              "</html>"
            ]
          },
          "metadata": {}
        }
      ]
    },
    {
      "cell_type": "markdown",
      "source": [
        "## Сравнение методик"
      ],
      "metadata": {
        "id": "dS33SB6b9or9"
      }
    },
    {
      "cell_type": "code",
      "source": [
        "mu = 250\n",
        "sigma = 10\n",
        "p = 0.95\n",
        "\n",
        "iter_size = 10000\n",
        "test_stat = [{\n",
        "    \"sample_size\": 3\n",
        "}, {\n",
        "    \"sample_size\": 10\n",
        "}, {\n",
        "    \"sample_size\": 100\n",
        "}, {\n",
        "    \"sample_size\": 1000\n",
        "}]\n",
        "\n",
        "solution_list = [{\n",
        "    \"name\": \"clt\",\n",
        "    \"function\": clt_solution\n",
        "}, {\n",
        "    \"name\": \"exact\",\n",
        "    \"function\": exact_solution\n",
        "}]\n",
        "\n",
        "for test_element in test_stat:\n",
        "    x = norm(loc=mu, scale=sigma).rvs(size=[iter_size, test_element[\"sample_size\"]], random_state=42)\n",
        "\n",
        "    for i in range(iter_size):\n",
        "        for solution_element in solution_list:\n",
        "            left_side, right_side = solution_element[\"function\"](p, x[i])\n",
        "\n",
        "            total_error_col = solution_element[\"name\"] + \"_total_error\"\n",
        "            total_interval_length_col = solution_element[\"name\"] + \"_total_interval_length\"\n",
        "\n",
        "            test_element[total_error_col] = test_element.get(total_error_col, 0) \\\n",
        "                                            + (1 if (mu < left_side or right_side < mu) else 0)\n",
        "            test_element[total_interval_length_col] = test_element.get(total_interval_length_col, 0) \\\n",
        "                                                      + right_side - left_side\n",
        "\n",
        "    for solution_element in solution_list:\n",
        "        total_error_col = solution_element[\"name\"] + \"_total_error\"\n",
        "        mean_error_col = solution_element[\"name\"] + \"_mean_error\"\n",
        "        test_element[mean_error_col] = test_element[total_error_col] / iter_size\n",
        "\n",
        "        total_interval_length_col = solution_element[\"name\"] + \"_total_interval_length\"\n",
        "        mean_interval_length_col = solution_element[\"name\"] + \"_mean_interval_length\"\n",
        "        test_element[mean_interval_length_col] = test_element[total_interval_length_col] / iter_size\n",
        "\n",
        "column_description = [{\n",
        "    \"column\": \"sample_size\",\n",
        "    \"description\": \"Размер выборки\"\n",
        "}, {\n",
        "    \"column\": \"exact_mean_error\",\n",
        "    \"description\": \"Частота ошибок точного интервала\"\n",
        "}, {\n",
        "    \"column\": \"clt_mean_error\",\n",
        "    \"description\": \"Частота ошибок асимптотического интервала\"\n",
        "}, {\n",
        "    \"column\": \"exact_mean_interval_length\",\n",
        "    \"description\": \"Средняя длина точного интервала\"\n",
        "}, {\n",
        "    \"column\": \"clt_mean_interval_length\",\n",
        "    \"description\": \"Средняя длина асимптотического интервала\"\n",
        "}]\n",
        "\n",
        "test_data = pd.DataFrame(test_stat)\n",
        "test_data[[el[\"column\"] for el in column_description]] \\\n",
        "         .rename(columns={el[\"column\"]: el[\"description\"]\n",
        "                          for el in column_description})"
      ],
      "metadata": {
        "id": "bv8eU0SO9f8K",
        "colab": {
          "base_uri": "https://localhost:8080/",
          "height": 175
        },
        "outputId": "d15ea984-ccb6-4892-90a7-876dc75553cd"
      },
      "execution_count": null,
      "outputs": [
        {
          "output_type": "execute_result",
          "data": {
            "text/plain": [
              "   Размер выборки  Частота ошибок точного интервала  \\\n",
              "0               3                            0.0476   \n",
              "1              10                            0.0565   \n",
              "2             100                            0.0506   \n",
              "3            1000                            0.0435   \n",
              "\n",
              "   Частота ошибок асимптотического интервала  Средняя длина точного интервала  \\\n",
              "0                                     0.2438                        22.631715   \n",
              "1                                     0.0991                        12.395901   \n",
              "2                                     0.0559                         3.919928   \n",
              "3                                     0.0430                         1.239590   \n",
              "\n",
              "   Средняя длина асимптотического интервала  \n",
              "0                                 16.422075  \n",
              "1                                 11.430070  \n",
              "2                                  3.890821  \n",
              "3                                  1.238703  "
            ],
            "text/html": [
              "\n",
              "  <div id=\"df-ea0b8aa2-a773-4c87-8f71-2084414be925\" class=\"colab-df-container\">\n",
              "    <div>\n",
              "<style scoped>\n",
              "    .dataframe tbody tr th:only-of-type {\n",
              "        vertical-align: middle;\n",
              "    }\n",
              "\n",
              "    .dataframe tbody tr th {\n",
              "        vertical-align: top;\n",
              "    }\n",
              "\n",
              "    .dataframe thead th {\n",
              "        text-align: right;\n",
              "    }\n",
              "</style>\n",
              "<table border=\"1\" class=\"dataframe\">\n",
              "  <thead>\n",
              "    <tr style=\"text-align: right;\">\n",
              "      <th></th>\n",
              "      <th>Размер выборки</th>\n",
              "      <th>Частота ошибок точного интервала</th>\n",
              "      <th>Частота ошибок асимптотического интервала</th>\n",
              "      <th>Средняя длина точного интервала</th>\n",
              "      <th>Средняя длина асимптотического интервала</th>\n",
              "    </tr>\n",
              "  </thead>\n",
              "  <tbody>\n",
              "    <tr>\n",
              "      <th>0</th>\n",
              "      <td>3</td>\n",
              "      <td>0.0476</td>\n",
              "      <td>0.2438</td>\n",
              "      <td>22.631715</td>\n",
              "      <td>16.422075</td>\n",
              "    </tr>\n",
              "    <tr>\n",
              "      <th>1</th>\n",
              "      <td>10</td>\n",
              "      <td>0.0565</td>\n",
              "      <td>0.0991</td>\n",
              "      <td>12.395901</td>\n",
              "      <td>11.430070</td>\n",
              "    </tr>\n",
              "    <tr>\n",
              "      <th>2</th>\n",
              "      <td>100</td>\n",
              "      <td>0.0506</td>\n",
              "      <td>0.0559</td>\n",
              "      <td>3.919928</td>\n",
              "      <td>3.890821</td>\n",
              "    </tr>\n",
              "    <tr>\n",
              "      <th>3</th>\n",
              "      <td>1000</td>\n",
              "      <td>0.0435</td>\n",
              "      <td>0.0430</td>\n",
              "      <td>1.239590</td>\n",
              "      <td>1.238703</td>\n",
              "    </tr>\n",
              "  </tbody>\n",
              "</table>\n",
              "</div>\n",
              "    <div class=\"colab-df-buttons\">\n",
              "\n",
              "  <div class=\"colab-df-container\">\n",
              "    <button class=\"colab-df-convert\" onclick=\"convertToInteractive('df-ea0b8aa2-a773-4c87-8f71-2084414be925')\"\n",
              "            title=\"Convert this dataframe to an interactive table.\"\n",
              "            style=\"display:none;\">\n",
              "\n",
              "  <svg xmlns=\"http://www.w3.org/2000/svg\" height=\"24px\" viewBox=\"0 -960 960 960\">\n",
              "    <path d=\"M120-120v-720h720v720H120Zm60-500h600v-160H180v160Zm220 220h160v-160H400v160Zm0 220h160v-160H400v160ZM180-400h160v-160H180v160Zm440 0h160v-160H620v160ZM180-180h160v-160H180v160Zm440 0h160v-160H620v160Z\"/>\n",
              "  </svg>\n",
              "    </button>\n",
              "\n",
              "  <style>\n",
              "    .colab-df-container {\n",
              "      display:flex;\n",
              "      gap: 12px;\n",
              "    }\n",
              "\n",
              "    .colab-df-convert {\n",
              "      background-color: #E8F0FE;\n",
              "      border: none;\n",
              "      border-radius: 50%;\n",
              "      cursor: pointer;\n",
              "      display: none;\n",
              "      fill: #1967D2;\n",
              "      height: 32px;\n",
              "      padding: 0 0 0 0;\n",
              "      width: 32px;\n",
              "    }\n",
              "\n",
              "    .colab-df-convert:hover {\n",
              "      background-color: #E2EBFA;\n",
              "      box-shadow: 0px 1px 2px rgba(60, 64, 67, 0.3), 0px 1px 3px 1px rgba(60, 64, 67, 0.15);\n",
              "      fill: #174EA6;\n",
              "    }\n",
              "\n",
              "    .colab-df-buttons div {\n",
              "      margin-bottom: 4px;\n",
              "    }\n",
              "\n",
              "    [theme=dark] .colab-df-convert {\n",
              "      background-color: #3B4455;\n",
              "      fill: #D2E3FC;\n",
              "    }\n",
              "\n",
              "    [theme=dark] .colab-df-convert:hover {\n",
              "      background-color: #434B5C;\n",
              "      box-shadow: 0px 1px 3px 1px rgba(0, 0, 0, 0.15);\n",
              "      filter: drop-shadow(0px 1px 2px rgba(0, 0, 0, 0.3));\n",
              "      fill: #FFFFFF;\n",
              "    }\n",
              "  </style>\n",
              "\n",
              "    <script>\n",
              "      const buttonEl =\n",
              "        document.querySelector('#df-ea0b8aa2-a773-4c87-8f71-2084414be925 button.colab-df-convert');\n",
              "      buttonEl.style.display =\n",
              "        google.colab.kernel.accessAllowed ? 'block' : 'none';\n",
              "\n",
              "      async function convertToInteractive(key) {\n",
              "        const element = document.querySelector('#df-ea0b8aa2-a773-4c87-8f71-2084414be925');\n",
              "        const dataTable =\n",
              "          await google.colab.kernel.invokeFunction('convertToInteractive',\n",
              "                                                    [key], {});\n",
              "        if (!dataTable) return;\n",
              "\n",
              "        const docLinkHtml = 'Like what you see? Visit the ' +\n",
              "          '<a target=\"_blank\" href=https://colab.research.google.com/notebooks/data_table.ipynb>data table notebook</a>'\n",
              "          + ' to learn more about interactive tables.';\n",
              "        element.innerHTML = '';\n",
              "        dataTable['output_type'] = 'display_data';\n",
              "        await google.colab.output.renderOutput(dataTable, element);\n",
              "        const docLink = document.createElement('div');\n",
              "        docLink.innerHTML = docLinkHtml;\n",
              "        element.appendChild(docLink);\n",
              "      }\n",
              "    </script>\n",
              "  </div>\n",
              "\n",
              "\n",
              "<div id=\"df-5b71c557-aee3-4209-81e5-ec59c3179b1d\">\n",
              "  <button class=\"colab-df-quickchart\" onclick=\"quickchart('df-5b71c557-aee3-4209-81e5-ec59c3179b1d')\"\n",
              "            title=\"Suggest charts\"\n",
              "            style=\"display:none;\">\n",
              "\n",
              "<svg xmlns=\"http://www.w3.org/2000/svg\" height=\"24px\"viewBox=\"0 0 24 24\"\n",
              "     width=\"24px\">\n",
              "    <g>\n",
              "        <path d=\"M19 3H5c-1.1 0-2 .9-2 2v14c0 1.1.9 2 2 2h14c1.1 0 2-.9 2-2V5c0-1.1-.9-2-2-2zM9 17H7v-7h2v7zm4 0h-2V7h2v10zm4 0h-2v-4h2v4z\"/>\n",
              "    </g>\n",
              "</svg>\n",
              "  </button>\n",
              "\n",
              "<style>\n",
              "  .colab-df-quickchart {\n",
              "      --bg-color: #E8F0FE;\n",
              "      --fill-color: #1967D2;\n",
              "      --hover-bg-color: #E2EBFA;\n",
              "      --hover-fill-color: #174EA6;\n",
              "      --disabled-fill-color: #AAA;\n",
              "      --disabled-bg-color: #DDD;\n",
              "  }\n",
              "\n",
              "  [theme=dark] .colab-df-quickchart {\n",
              "      --bg-color: #3B4455;\n",
              "      --fill-color: #D2E3FC;\n",
              "      --hover-bg-color: #434B5C;\n",
              "      --hover-fill-color: #FFFFFF;\n",
              "      --disabled-bg-color: #3B4455;\n",
              "      --disabled-fill-color: #666;\n",
              "  }\n",
              "\n",
              "  .colab-df-quickchart {\n",
              "    background-color: var(--bg-color);\n",
              "    border: none;\n",
              "    border-radius: 50%;\n",
              "    cursor: pointer;\n",
              "    display: none;\n",
              "    fill: var(--fill-color);\n",
              "    height: 32px;\n",
              "    padding: 0;\n",
              "    width: 32px;\n",
              "  }\n",
              "\n",
              "  .colab-df-quickchart:hover {\n",
              "    background-color: var(--hover-bg-color);\n",
              "    box-shadow: 0 1px 2px rgba(60, 64, 67, 0.3), 0 1px 3px 1px rgba(60, 64, 67, 0.15);\n",
              "    fill: var(--button-hover-fill-color);\n",
              "  }\n",
              "\n",
              "  .colab-df-quickchart-complete:disabled,\n",
              "  .colab-df-quickchart-complete:disabled:hover {\n",
              "    background-color: var(--disabled-bg-color);\n",
              "    fill: var(--disabled-fill-color);\n",
              "    box-shadow: none;\n",
              "  }\n",
              "\n",
              "  .colab-df-spinner {\n",
              "    border: 2px solid var(--fill-color);\n",
              "    border-color: transparent;\n",
              "    border-bottom-color: var(--fill-color);\n",
              "    animation:\n",
              "      spin 1s steps(1) infinite;\n",
              "  }\n",
              "\n",
              "  @keyframes spin {\n",
              "    0% {\n",
              "      border-color: transparent;\n",
              "      border-bottom-color: var(--fill-color);\n",
              "      border-left-color: var(--fill-color);\n",
              "    }\n",
              "    20% {\n",
              "      border-color: transparent;\n",
              "      border-left-color: var(--fill-color);\n",
              "      border-top-color: var(--fill-color);\n",
              "    }\n",
              "    30% {\n",
              "      border-color: transparent;\n",
              "      border-left-color: var(--fill-color);\n",
              "      border-top-color: var(--fill-color);\n",
              "      border-right-color: var(--fill-color);\n",
              "    }\n",
              "    40% {\n",
              "      border-color: transparent;\n",
              "      border-right-color: var(--fill-color);\n",
              "      border-top-color: var(--fill-color);\n",
              "    }\n",
              "    60% {\n",
              "      border-color: transparent;\n",
              "      border-right-color: var(--fill-color);\n",
              "    }\n",
              "    80% {\n",
              "      border-color: transparent;\n",
              "      border-right-color: var(--fill-color);\n",
              "      border-bottom-color: var(--fill-color);\n",
              "    }\n",
              "    90% {\n",
              "      border-color: transparent;\n",
              "      border-bottom-color: var(--fill-color);\n",
              "    }\n",
              "  }\n",
              "</style>\n",
              "\n",
              "  <script>\n",
              "    async function quickchart(key) {\n",
              "      const quickchartButtonEl =\n",
              "        document.querySelector('#' + key + ' button');\n",
              "      quickchartButtonEl.disabled = true;  // To prevent multiple clicks.\n",
              "      quickchartButtonEl.classList.add('colab-df-spinner');\n",
              "      try {\n",
              "        const charts = await google.colab.kernel.invokeFunction(\n",
              "            'suggestCharts', [key], {});\n",
              "      } catch (error) {\n",
              "        console.error('Error during call to suggestCharts:', error);\n",
              "      }\n",
              "      quickchartButtonEl.classList.remove('colab-df-spinner');\n",
              "      quickchartButtonEl.classList.add('colab-df-quickchart-complete');\n",
              "    }\n",
              "    (() => {\n",
              "      let quickchartButtonEl =\n",
              "        document.querySelector('#df-5b71c557-aee3-4209-81e5-ec59c3179b1d button');\n",
              "      quickchartButtonEl.style.display =\n",
              "        google.colab.kernel.accessAllowed ? 'block' : 'none';\n",
              "    })();\n",
              "  </script>\n",
              "</div>\n",
              "    </div>\n",
              "  </div>\n"
            ],
            "application/vnd.google.colaboratory.intrinsic+json": {
              "type": "dataframe",
              "summary": "{\n  \"name\": \"                          for el in column_description})\",\n  \"rows\": 4,\n  \"fields\": [\n    {\n      \"column\": \"\\u0420\\u0430\\u0437\\u043c\\u0435\\u0440 \\u0432\\u044b\\u0431\\u043e\\u0440\\u043a\\u0438\",\n      \"properties\": {\n        \"dtype\": \"number\",\n        \"std\": 483,\n        \"min\": 3,\n        \"max\": 1000,\n        \"num_unique_values\": 4,\n        \"samples\": [\n          10,\n          1000,\n          3\n        ],\n        \"semantic_type\": \"\",\n        \"description\": \"\"\n      }\n    },\n    {\n      \"column\": \"\\u0427\\u0430\\u0441\\u0442\\u043e\\u0442\\u0430 \\u043e\\u0448\\u0438\\u0431\\u043e\\u043a \\u0442\\u043e\\u0447\\u043d\\u043e\\u0433\\u043e \\u0438\\u043d\\u0442\\u0435\\u0440\\u0432\\u0430\\u043b\\u0430\",\n      \"properties\": {\n        \"dtype\": \"number\",\n        \"std\": 0.005471441004586149,\n        \"min\": 0.0435,\n        \"max\": 0.0565,\n        \"num_unique_values\": 4,\n        \"samples\": [\n          0.0565,\n          0.0435,\n          0.0476\n        ],\n        \"semantic_type\": \"\",\n        \"description\": \"\"\n      }\n    },\n    {\n      \"column\": \"\\u0427\\u0430\\u0441\\u0442\\u043e\\u0442\\u0430 \\u043e\\u0448\\u0438\\u0431\\u043e\\u043a \\u0430\\u0441\\u0438\\u043c\\u043f\\u0442\\u043e\\u0442\\u0438\\u0447\\u0435\\u0441\\u043a\\u043e\\u0433\\u043e \\u0438\\u043d\\u0442\\u0435\\u0440\\u0432\\u0430\\u043b\\u0430\",\n      \"properties\": {\n        \"dtype\": \"number\",\n        \"std\": 0.0920801281493461,\n        \"min\": 0.043,\n        \"max\": 0.2438,\n        \"num_unique_values\": 4,\n        \"samples\": [\n          0.0991,\n          0.043,\n          0.2438\n        ],\n        \"semantic_type\": \"\",\n        \"description\": \"\"\n      }\n    },\n    {\n      \"column\": \"\\u0421\\u0440\\u0435\\u0434\\u043d\\u044f\\u044f \\u0434\\u043b\\u0438\\u043d\\u0430 \\u0442\\u043e\\u0447\\u043d\\u043e\\u0433\\u043e \\u0438\\u043d\\u0442\\u0435\\u0440\\u0432\\u0430\\u043b\\u0430\",\n      \"properties\": {\n        \"dtype\": \"number\",\n        \"std\": 9.643717456024591,\n        \"min\": 1.2395900646091047,\n        \"max\": 22.631714681523572,\n        \"num_unique_values\": 4,\n        \"samples\": [\n          12.395900646091224,\n          1.2395900646091047,\n          22.631714681523572\n        ],\n        \"semantic_type\": \"\",\n        \"description\": \"\"\n      }\n    },\n    {\n      \"column\": \"\\u0421\\u0440\\u0435\\u0434\\u043d\\u044f\\u044f \\u0434\\u043b\\u0438\\u043d\\u0430 \\u0430\\u0441\\u0438\\u043c\\u043f\\u0442\\u043e\\u0442\\u0438\\u0447\\u0435\\u0441\\u043a\\u043e\\u0433\\u043e \\u0438\\u043d\\u0442\\u0435\\u0440\\u0432\\u0430\\u043b\\u0430\",\n      \"properties\": {\n        \"dtype\": \"number\",\n        \"std\": 6.953567031230326,\n        \"min\": 1.2387034903021816,\n        \"max\": 16.422074664936563,\n        \"num_unique_values\": 4,\n        \"samples\": [\n          11.43007013200308,\n          1.2387034903021816,\n          16.422074664936563\n        ],\n        \"semantic_type\": \"\",\n        \"description\": \"\"\n      }\n    }\n  ]\n}"
            }
          },
          "metadata": {},
          "execution_count": 46
        }
      ]
    }
  ]
}